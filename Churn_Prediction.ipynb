{
  "nbformat": 4,
  "nbformat_minor": 0,
  "metadata": {
    "colab": {
      "provenance": []
    },
    "kernelspec": {
      "name": "python3",
      "display_name": "Python 3"
    },
    "language_info": {
      "name": "python"
    }
  },
  "cells": [
    {
      "cell_type": "markdown",
      "source": [
        "**Description of features**  \n",
        "*Churn*:   1 means customer leave and 0 means customer uses the service  \n",
        "\n",
        "*Tenure*:   Tenure of customer in organization  \n",
        "\n",
        "*PreferredLoginDevice*:   Preferred login device of customer like laptop or phone\n",
        "\n",
        "*CityTier*:   City tier(1,2,3)  \n",
        "\n",
        "*WarehouseToHome*: Distance in between warehouse to home of customer  \n",
        "\n",
        "*PreferredPaymentMode*: Preferred payment method of customer  \n",
        "\n",
        "*Gender*: Gender of customer  \n",
        "\n",
        "*HourSpendOnApp*: Number of hours spend on mobile application or website  \n",
        "\n",
        "*NumberOfDeviceRegistered*: Total number of deceives is registered on particular customer  \n",
        "\n",
        "*PreferedOrderCat*: Preferred order category of customer in last month  \n",
        "\n",
        "*SatisfactionScore*: Satisfactory score of customer on service  \n",
        "\n",
        "*MaritalStatus*: Marital status of customer  \n",
        "\n",
        "*NumberOfAddress*: Total number of added added on particular customer  \n",
        "\n",
        "*Complain*: Any complaint has been raised in last month  \n",
        "\n",
        "*OrderAmountHikeFromlastYear*: Percentage increases in order from last year  \n",
        "\n",
        "*CouponUsed*: Total number of coupon has been used in last month  \n",
        "\n",
        "*OrderCount*: Total number of orders has been places in last month  \n",
        "\n",
        "*DaySinceLastOrder*: Day Since last order by customer  \n",
        "\n",
        "*CashbackAmount*: Average cashback in last month  \n",
        "\n",
        "\n",
        "\n"
      ],
      "metadata": {
        "id": "Dpbqf2D587r8"
      }
    },
    {
      "cell_type": "markdown",
      "source": [
        "**Import Library**"
      ],
      "metadata": {
        "id": "ScisuX-S7ToW"
      }
    },
    {
      "cell_type": "code",
      "execution_count": null,
      "metadata": {
        "id": "BIwRt0HLERWs"
      },
      "outputs": [],
      "source": [
        "import pandas as pd\n",
        "import numpy as np\n",
        "pd.set_option('display.max_columns', None)   # to see all columns\n",
        "import matplotlib.pyplot as plt\n",
        "import seaborn as sns\n"
      ]
    },
    {
      "cell_type": "markdown",
      "source": [
        "**Load the dataset and store in pandas dataframe**"
      ],
      "metadata": {
        "id": "UlszPJfnAgMX"
      }
    },
    {
      "cell_type": "code",
      "source": [
        "df = pd.read_excel('/content/E Commerce Dataset.xlsx')\n",
        "df.drop('CustomerID', axis = 1, inplace = True)   # drop the customerID column as it is of no use\n",
        "df"
      ],
      "metadata": {
        "id": "-zBxukHbEU6d",
        "colab": {
          "base_uri": "https://localhost:8080/",
          "height": 592
        },
        "outputId": "4ce2425b-9025-45bd-cea9-75bab683f8ba"
      },
      "execution_count": null,
      "outputs": [
        {
          "output_type": "execute_result",
          "data": {
            "text/plain": [
              "      Churn  Tenure PreferredLoginDevice  CityTier  WarehouseToHome  \\\n",
              "0         1     4.0         Mobile Phone         3              6.0   \n",
              "1         1     NaN                Phone         1              8.0   \n",
              "2         1     NaN                Phone         1             30.0   \n",
              "3         1     0.0                Phone         3             15.0   \n",
              "4         1     0.0                Phone         1             12.0   \n",
              "...     ...     ...                  ...       ...              ...   \n",
              "5625      0    10.0             Computer         1             30.0   \n",
              "5626      0    13.0         Mobile Phone         1             13.0   \n",
              "5627      0     1.0         Mobile Phone         1             11.0   \n",
              "5628      0    23.0             Computer         3              9.0   \n",
              "5629      0     8.0         Mobile Phone         1             15.0   \n",
              "\n",
              "     PreferredPaymentMode  Gender  HourSpendOnApp  NumberOfDeviceRegistered  \\\n",
              "0              Debit Card  Female             3.0                         3   \n",
              "1                     UPI    Male             3.0                         4   \n",
              "2              Debit Card    Male             2.0                         4   \n",
              "3              Debit Card    Male             2.0                         4   \n",
              "4                      CC    Male             NaN                         3   \n",
              "...                   ...     ...             ...                       ...   \n",
              "5625          Credit Card    Male             3.0                         2   \n",
              "5626          Credit Card    Male             3.0                         5   \n",
              "5627           Debit Card    Male             3.0                         2   \n",
              "5628          Credit Card    Male             4.0                         5   \n",
              "5629          Credit Card    Male             3.0                         2   \n",
              "\n",
              "        PreferedOrderCat  SatisfactionScore MaritalStatus  NumberOfAddress  \\\n",
              "0     Laptop & Accessory                  2        Single                9   \n",
              "1                 Mobile                  3        Single                7   \n",
              "2                 Mobile                  3        Single                6   \n",
              "3     Laptop & Accessory                  5        Single                8   \n",
              "4                 Mobile                  5        Single                3   \n",
              "...                  ...                ...           ...              ...   \n",
              "5625  Laptop & Accessory                  1       Married                6   \n",
              "5626             Fashion                  5       Married                6   \n",
              "5627  Laptop & Accessory                  4       Married                3   \n",
              "5628  Laptop & Accessory                  4       Married                4   \n",
              "5629  Laptop & Accessory                  3       Married                4   \n",
              "\n",
              "      Complain  OrderAmountHikeFromlastYear  CouponUsed  OrderCount  \\\n",
              "0            1                         11.0         1.0         1.0   \n",
              "1            1                         15.0         0.0         1.0   \n",
              "2            1                         14.0         0.0         1.0   \n",
              "3            0                         23.0         0.0         1.0   \n",
              "4            0                         11.0         1.0         1.0   \n",
              "...        ...                          ...         ...         ...   \n",
              "5625         0                         18.0         1.0         2.0   \n",
              "5626         0                         16.0         1.0         2.0   \n",
              "5627         1                         21.0         1.0         2.0   \n",
              "5628         0                         15.0         2.0         2.0   \n",
              "5629         0                         13.0         2.0         2.0   \n",
              "\n",
              "      DaySinceLastOrder  CashbackAmount  \n",
              "0                   5.0          159.93  \n",
              "1                   0.0          120.90  \n",
              "2                   3.0          120.28  \n",
              "3                   3.0          134.07  \n",
              "4                   3.0          129.60  \n",
              "...                 ...             ...  \n",
              "5625                4.0          150.71  \n",
              "5626                NaN          224.91  \n",
              "5627                4.0          186.42  \n",
              "5628                9.0          178.90  \n",
              "5629                3.0          169.04  \n",
              "\n",
              "[5630 rows x 19 columns]"
            ],
            "text/html": [
              "\n",
              "  <div id=\"df-75692a63-8b76-4ecd-922c-40fbdea35dae\">\n",
              "    <div class=\"colab-df-container\">\n",
              "      <div>\n",
              "<style scoped>\n",
              "    .dataframe tbody tr th:only-of-type {\n",
              "        vertical-align: middle;\n",
              "    }\n",
              "\n",
              "    .dataframe tbody tr th {\n",
              "        vertical-align: top;\n",
              "    }\n",
              "\n",
              "    .dataframe thead th {\n",
              "        text-align: right;\n",
              "    }\n",
              "</style>\n",
              "<table border=\"1\" class=\"dataframe\">\n",
              "  <thead>\n",
              "    <tr style=\"text-align: right;\">\n",
              "      <th></th>\n",
              "      <th>Churn</th>\n",
              "      <th>Tenure</th>\n",
              "      <th>PreferredLoginDevice</th>\n",
              "      <th>CityTier</th>\n",
              "      <th>WarehouseToHome</th>\n",
              "      <th>PreferredPaymentMode</th>\n",
              "      <th>Gender</th>\n",
              "      <th>HourSpendOnApp</th>\n",
              "      <th>NumberOfDeviceRegistered</th>\n",
              "      <th>PreferedOrderCat</th>\n",
              "      <th>SatisfactionScore</th>\n",
              "      <th>MaritalStatus</th>\n",
              "      <th>NumberOfAddress</th>\n",
              "      <th>Complain</th>\n",
              "      <th>OrderAmountHikeFromlastYear</th>\n",
              "      <th>CouponUsed</th>\n",
              "      <th>OrderCount</th>\n",
              "      <th>DaySinceLastOrder</th>\n",
              "      <th>CashbackAmount</th>\n",
              "    </tr>\n",
              "  </thead>\n",
              "  <tbody>\n",
              "    <tr>\n",
              "      <th>0</th>\n",
              "      <td>1</td>\n",
              "      <td>4.0</td>\n",
              "      <td>Mobile Phone</td>\n",
              "      <td>3</td>\n",
              "      <td>6.0</td>\n",
              "      <td>Debit Card</td>\n",
              "      <td>Female</td>\n",
              "      <td>3.0</td>\n",
              "      <td>3</td>\n",
              "      <td>Laptop &amp; Accessory</td>\n",
              "      <td>2</td>\n",
              "      <td>Single</td>\n",
              "      <td>9</td>\n",
              "      <td>1</td>\n",
              "      <td>11.0</td>\n",
              "      <td>1.0</td>\n",
              "      <td>1.0</td>\n",
              "      <td>5.0</td>\n",
              "      <td>159.93</td>\n",
              "    </tr>\n",
              "    <tr>\n",
              "      <th>1</th>\n",
              "      <td>1</td>\n",
              "      <td>NaN</td>\n",
              "      <td>Phone</td>\n",
              "      <td>1</td>\n",
              "      <td>8.0</td>\n",
              "      <td>UPI</td>\n",
              "      <td>Male</td>\n",
              "      <td>3.0</td>\n",
              "      <td>4</td>\n",
              "      <td>Mobile</td>\n",
              "      <td>3</td>\n",
              "      <td>Single</td>\n",
              "      <td>7</td>\n",
              "      <td>1</td>\n",
              "      <td>15.0</td>\n",
              "      <td>0.0</td>\n",
              "      <td>1.0</td>\n",
              "      <td>0.0</td>\n",
              "      <td>120.90</td>\n",
              "    </tr>\n",
              "    <tr>\n",
              "      <th>2</th>\n",
              "      <td>1</td>\n",
              "      <td>NaN</td>\n",
              "      <td>Phone</td>\n",
              "      <td>1</td>\n",
              "      <td>30.0</td>\n",
              "      <td>Debit Card</td>\n",
              "      <td>Male</td>\n",
              "      <td>2.0</td>\n",
              "      <td>4</td>\n",
              "      <td>Mobile</td>\n",
              "      <td>3</td>\n",
              "      <td>Single</td>\n",
              "      <td>6</td>\n",
              "      <td>1</td>\n",
              "      <td>14.0</td>\n",
              "      <td>0.0</td>\n",
              "      <td>1.0</td>\n",
              "      <td>3.0</td>\n",
              "      <td>120.28</td>\n",
              "    </tr>\n",
              "    <tr>\n",
              "      <th>3</th>\n",
              "      <td>1</td>\n",
              "      <td>0.0</td>\n",
              "      <td>Phone</td>\n",
              "      <td>3</td>\n",
              "      <td>15.0</td>\n",
              "      <td>Debit Card</td>\n",
              "      <td>Male</td>\n",
              "      <td>2.0</td>\n",
              "      <td>4</td>\n",
              "      <td>Laptop &amp; Accessory</td>\n",
              "      <td>5</td>\n",
              "      <td>Single</td>\n",
              "      <td>8</td>\n",
              "      <td>0</td>\n",
              "      <td>23.0</td>\n",
              "      <td>0.0</td>\n",
              "      <td>1.0</td>\n",
              "      <td>3.0</td>\n",
              "      <td>134.07</td>\n",
              "    </tr>\n",
              "    <tr>\n",
              "      <th>4</th>\n",
              "      <td>1</td>\n",
              "      <td>0.0</td>\n",
              "      <td>Phone</td>\n",
              "      <td>1</td>\n",
              "      <td>12.0</td>\n",
              "      <td>CC</td>\n",
              "      <td>Male</td>\n",
              "      <td>NaN</td>\n",
              "      <td>3</td>\n",
              "      <td>Mobile</td>\n",
              "      <td>5</td>\n",
              "      <td>Single</td>\n",
              "      <td>3</td>\n",
              "      <td>0</td>\n",
              "      <td>11.0</td>\n",
              "      <td>1.0</td>\n",
              "      <td>1.0</td>\n",
              "      <td>3.0</td>\n",
              "      <td>129.60</td>\n",
              "    </tr>\n",
              "    <tr>\n",
              "      <th>...</th>\n",
              "      <td>...</td>\n",
              "      <td>...</td>\n",
              "      <td>...</td>\n",
              "      <td>...</td>\n",
              "      <td>...</td>\n",
              "      <td>...</td>\n",
              "      <td>...</td>\n",
              "      <td>...</td>\n",
              "      <td>...</td>\n",
              "      <td>...</td>\n",
              "      <td>...</td>\n",
              "      <td>...</td>\n",
              "      <td>...</td>\n",
              "      <td>...</td>\n",
              "      <td>...</td>\n",
              "      <td>...</td>\n",
              "      <td>...</td>\n",
              "      <td>...</td>\n",
              "      <td>...</td>\n",
              "    </tr>\n",
              "    <tr>\n",
              "      <th>5625</th>\n",
              "      <td>0</td>\n",
              "      <td>10.0</td>\n",
              "      <td>Computer</td>\n",
              "      <td>1</td>\n",
              "      <td>30.0</td>\n",
              "      <td>Credit Card</td>\n",
              "      <td>Male</td>\n",
              "      <td>3.0</td>\n",
              "      <td>2</td>\n",
              "      <td>Laptop &amp; Accessory</td>\n",
              "      <td>1</td>\n",
              "      <td>Married</td>\n",
              "      <td>6</td>\n",
              "      <td>0</td>\n",
              "      <td>18.0</td>\n",
              "      <td>1.0</td>\n",
              "      <td>2.0</td>\n",
              "      <td>4.0</td>\n",
              "      <td>150.71</td>\n",
              "    </tr>\n",
              "    <tr>\n",
              "      <th>5626</th>\n",
              "      <td>0</td>\n",
              "      <td>13.0</td>\n",
              "      <td>Mobile Phone</td>\n",
              "      <td>1</td>\n",
              "      <td>13.0</td>\n",
              "      <td>Credit Card</td>\n",
              "      <td>Male</td>\n",
              "      <td>3.0</td>\n",
              "      <td>5</td>\n",
              "      <td>Fashion</td>\n",
              "      <td>5</td>\n",
              "      <td>Married</td>\n",
              "      <td>6</td>\n",
              "      <td>0</td>\n",
              "      <td>16.0</td>\n",
              "      <td>1.0</td>\n",
              "      <td>2.0</td>\n",
              "      <td>NaN</td>\n",
              "      <td>224.91</td>\n",
              "    </tr>\n",
              "    <tr>\n",
              "      <th>5627</th>\n",
              "      <td>0</td>\n",
              "      <td>1.0</td>\n",
              "      <td>Mobile Phone</td>\n",
              "      <td>1</td>\n",
              "      <td>11.0</td>\n",
              "      <td>Debit Card</td>\n",
              "      <td>Male</td>\n",
              "      <td>3.0</td>\n",
              "      <td>2</td>\n",
              "      <td>Laptop &amp; Accessory</td>\n",
              "      <td>4</td>\n",
              "      <td>Married</td>\n",
              "      <td>3</td>\n",
              "      <td>1</td>\n",
              "      <td>21.0</td>\n",
              "      <td>1.0</td>\n",
              "      <td>2.0</td>\n",
              "      <td>4.0</td>\n",
              "      <td>186.42</td>\n",
              "    </tr>\n",
              "    <tr>\n",
              "      <th>5628</th>\n",
              "      <td>0</td>\n",
              "      <td>23.0</td>\n",
              "      <td>Computer</td>\n",
              "      <td>3</td>\n",
              "      <td>9.0</td>\n",
              "      <td>Credit Card</td>\n",
              "      <td>Male</td>\n",
              "      <td>4.0</td>\n",
              "      <td>5</td>\n",
              "      <td>Laptop &amp; Accessory</td>\n",
              "      <td>4</td>\n",
              "      <td>Married</td>\n",
              "      <td>4</td>\n",
              "      <td>0</td>\n",
              "      <td>15.0</td>\n",
              "      <td>2.0</td>\n",
              "      <td>2.0</td>\n",
              "      <td>9.0</td>\n",
              "      <td>178.90</td>\n",
              "    </tr>\n",
              "    <tr>\n",
              "      <th>5629</th>\n",
              "      <td>0</td>\n",
              "      <td>8.0</td>\n",
              "      <td>Mobile Phone</td>\n",
              "      <td>1</td>\n",
              "      <td>15.0</td>\n",
              "      <td>Credit Card</td>\n",
              "      <td>Male</td>\n",
              "      <td>3.0</td>\n",
              "      <td>2</td>\n",
              "      <td>Laptop &amp; Accessory</td>\n",
              "      <td>3</td>\n",
              "      <td>Married</td>\n",
              "      <td>4</td>\n",
              "      <td>0</td>\n",
              "      <td>13.0</td>\n",
              "      <td>2.0</td>\n",
              "      <td>2.0</td>\n",
              "      <td>3.0</td>\n",
              "      <td>169.04</td>\n",
              "    </tr>\n",
              "  </tbody>\n",
              "</table>\n",
              "<p>5630 rows × 19 columns</p>\n",
              "</div>\n",
              "      <button class=\"colab-df-convert\" onclick=\"convertToInteractive('df-75692a63-8b76-4ecd-922c-40fbdea35dae')\"\n",
              "              title=\"Convert this dataframe to an interactive table.\"\n",
              "              style=\"display:none;\">\n",
              "        \n",
              "  <svg xmlns=\"http://www.w3.org/2000/svg\" height=\"24px\"viewBox=\"0 0 24 24\"\n",
              "       width=\"24px\">\n",
              "    <path d=\"M0 0h24v24H0V0z\" fill=\"none\"/>\n",
              "    <path d=\"M18.56 5.44l.94 2.06.94-2.06 2.06-.94-2.06-.94-.94-2.06-.94 2.06-2.06.94zm-11 1L8.5 8.5l.94-2.06 2.06-.94-2.06-.94L8.5 2.5l-.94 2.06-2.06.94zm10 10l.94 2.06.94-2.06 2.06-.94-2.06-.94-.94-2.06-.94 2.06-2.06.94z\"/><path d=\"M17.41 7.96l-1.37-1.37c-.4-.4-.92-.59-1.43-.59-.52 0-1.04.2-1.43.59L10.3 9.45l-7.72 7.72c-.78.78-.78 2.05 0 2.83L4 21.41c.39.39.9.59 1.41.59.51 0 1.02-.2 1.41-.59l7.78-7.78 2.81-2.81c.8-.78.8-2.07 0-2.86zM5.41 20L4 18.59l7.72-7.72 1.47 1.35L5.41 20z\"/>\n",
              "  </svg>\n",
              "      </button>\n",
              "      \n",
              "  <style>\n",
              "    .colab-df-container {\n",
              "      display:flex;\n",
              "      flex-wrap:wrap;\n",
              "      gap: 12px;\n",
              "    }\n",
              "\n",
              "    .colab-df-convert {\n",
              "      background-color: #E8F0FE;\n",
              "      border: none;\n",
              "      border-radius: 50%;\n",
              "      cursor: pointer;\n",
              "      display: none;\n",
              "      fill: #1967D2;\n",
              "      height: 32px;\n",
              "      padding: 0 0 0 0;\n",
              "      width: 32px;\n",
              "    }\n",
              "\n",
              "    .colab-df-convert:hover {\n",
              "      background-color: #E2EBFA;\n",
              "      box-shadow: 0px 1px 2px rgba(60, 64, 67, 0.3), 0px 1px 3px 1px rgba(60, 64, 67, 0.15);\n",
              "      fill: #174EA6;\n",
              "    }\n",
              "\n",
              "    [theme=dark] .colab-df-convert {\n",
              "      background-color: #3B4455;\n",
              "      fill: #D2E3FC;\n",
              "    }\n",
              "\n",
              "    [theme=dark] .colab-df-convert:hover {\n",
              "      background-color: #434B5C;\n",
              "      box-shadow: 0px 1px 3px 1px rgba(0, 0, 0, 0.15);\n",
              "      filter: drop-shadow(0px 1px 2px rgba(0, 0, 0, 0.3));\n",
              "      fill: #FFFFFF;\n",
              "    }\n",
              "  </style>\n",
              "\n",
              "      <script>\n",
              "        const buttonEl =\n",
              "          document.querySelector('#df-75692a63-8b76-4ecd-922c-40fbdea35dae button.colab-df-convert');\n",
              "        buttonEl.style.display =\n",
              "          google.colab.kernel.accessAllowed ? 'block' : 'none';\n",
              "\n",
              "        async function convertToInteractive(key) {\n",
              "          const element = document.querySelector('#df-75692a63-8b76-4ecd-922c-40fbdea35dae');\n",
              "          const dataTable =\n",
              "            await google.colab.kernel.invokeFunction('convertToInteractive',\n",
              "                                                     [key], {});\n",
              "          if (!dataTable) return;\n",
              "\n",
              "          const docLinkHtml = 'Like what you see? Visit the ' +\n",
              "            '<a target=\"_blank\" href=https://colab.research.google.com/notebooks/data_table.ipynb>data table notebook</a>'\n",
              "            + ' to learn more about interactive tables.';\n",
              "          element.innerHTML = '';\n",
              "          dataTable['output_type'] = 'display_data';\n",
              "          await google.colab.output.renderOutput(dataTable, element);\n",
              "          const docLink = document.createElement('div');\n",
              "          docLink.innerHTML = docLinkHtml;\n",
              "          element.appendChild(docLink);\n",
              "        }\n",
              "      </script>\n",
              "    </div>\n",
              "  </div>\n",
              "  "
            ]
          },
          "metadata": {},
          "execution_count": 4
        }
      ]
    },
    {
      "cell_type": "markdown",
      "source": [
        "Use the info function to find the data type of variable"
      ],
      "metadata": {
        "id": "Uflt1Fa4Cahr"
      }
    },
    {
      "cell_type": "code",
      "source": [
        "df.info()"
      ],
      "metadata": {
        "colab": {
          "base_uri": "https://localhost:8080/"
        },
        "id": "JrlbFTyHEU96",
        "outputId": "2c858402-0fc0-49a0-c121-5a849c5589d2"
      },
      "execution_count": null,
      "outputs": [
        {
          "output_type": "stream",
          "name": "stdout",
          "text": [
            "<class 'pandas.core.frame.DataFrame'>\n",
            "RangeIndex: 5630 entries, 0 to 5629\n",
            "Data columns (total 19 columns):\n",
            " #   Column                       Non-Null Count  Dtype  \n",
            "---  ------                       --------------  -----  \n",
            " 0   Churn                        5630 non-null   int64  \n",
            " 1   Tenure                       5366 non-null   float64\n",
            " 2   PreferredLoginDevice         5630 non-null   object \n",
            " 3   CityTier                     5630 non-null   int64  \n",
            " 4   WarehouseToHome              5379 non-null   float64\n",
            " 5   PreferredPaymentMode         5630 non-null   object \n",
            " 6   Gender                       5630 non-null   object \n",
            " 7   HourSpendOnApp               5375 non-null   float64\n",
            " 8   NumberOfDeviceRegistered     5630 non-null   int64  \n",
            " 9   PreferedOrderCat             5630 non-null   object \n",
            " 10  SatisfactionScore            5630 non-null   int64  \n",
            " 11  MaritalStatus                5630 non-null   object \n",
            " 12  NumberOfAddress              5630 non-null   int64  \n",
            " 13  Complain                     5630 non-null   int64  \n",
            " 14  OrderAmountHikeFromlastYear  5365 non-null   float64\n",
            " 15  CouponUsed                   5374 non-null   float64\n",
            " 16  OrderCount                   5372 non-null   float64\n",
            " 17  DaySinceLastOrder            5323 non-null   float64\n",
            " 18  CashbackAmount               5630 non-null   float64\n",
            "dtypes: float64(8), int64(6), object(5)\n",
            "memory usage: 835.8+ KB\n"
          ]
        }
      ]
    },
    {
      "cell_type": "markdown",
      "source": [
        "Most of the variable are numeric( float and integer) and few are categorical variable"
      ],
      "metadata": {
        "id": "Du93NSBoCq3O"
      }
    },
    {
      "cell_type": "code",
      "source": [
        "df.describe()    "
      ],
      "metadata": {
        "colab": {
          "base_uri": "https://localhost:8080/",
          "height": 364
        },
        "id": "k_4fJ5TkIG2F",
        "outputId": "62423db9-53fa-49d7-b34c-49e792485219"
      },
      "execution_count": null,
      "outputs": [
        {
          "output_type": "execute_result",
          "data": {
            "text/plain": [
              "             Churn       Tenure     CityTier  WarehouseToHome  HourSpendOnApp  \\\n",
              "count  5630.000000  5366.000000  5630.000000      5379.000000     5375.000000   \n",
              "mean      0.168384    10.189899     1.654707        15.639896        2.931535   \n",
              "std       0.374240     8.557241     0.915389         8.531475        0.721926   \n",
              "min       0.000000     0.000000     1.000000         5.000000        0.000000   \n",
              "25%       0.000000     2.000000     1.000000         9.000000        2.000000   \n",
              "50%       0.000000     9.000000     1.000000        14.000000        3.000000   \n",
              "75%       0.000000    16.000000     3.000000        20.000000        3.000000   \n",
              "max       1.000000    61.000000     3.000000       127.000000        5.000000   \n",
              "\n",
              "       NumberOfDeviceRegistered  SatisfactionScore  NumberOfAddress  \\\n",
              "count               5630.000000        5630.000000      5630.000000   \n",
              "mean                   3.688988           3.066785         4.214032   \n",
              "std                    1.023999           1.380194         2.583586   \n",
              "min                    1.000000           1.000000         1.000000   \n",
              "25%                    3.000000           2.000000         2.000000   \n",
              "50%                    4.000000           3.000000         3.000000   \n",
              "75%                    4.000000           4.000000         6.000000   \n",
              "max                    6.000000           5.000000        22.000000   \n",
              "\n",
              "          Complain  OrderAmountHikeFromlastYear   CouponUsed   OrderCount  \\\n",
              "count  5630.000000                  5365.000000  5374.000000  5372.000000   \n",
              "mean      0.284902                    15.707922     1.751023     3.008004   \n",
              "std       0.451408                     3.675485     1.894621     2.939680   \n",
              "min       0.000000                    11.000000     0.000000     1.000000   \n",
              "25%       0.000000                    13.000000     1.000000     1.000000   \n",
              "50%       0.000000                    15.000000     1.000000     2.000000   \n",
              "75%       1.000000                    18.000000     2.000000     3.000000   \n",
              "max       1.000000                    26.000000    16.000000    16.000000   \n",
              "\n",
              "       DaySinceLastOrder  CashbackAmount  \n",
              "count        5323.000000     5630.000000  \n",
              "mean            4.543491      177.223030  \n",
              "std             3.654433       49.207036  \n",
              "min             0.000000        0.000000  \n",
              "25%             2.000000      145.770000  \n",
              "50%             3.000000      163.280000  \n",
              "75%             7.000000      196.392500  \n",
              "max            46.000000      324.990000  "
            ],
            "text/html": [
              "\n",
              "  <div id=\"df-7e142af7-6461-492d-9f44-d5b377d9c1b2\">\n",
              "    <div class=\"colab-df-container\">\n",
              "      <div>\n",
              "<style scoped>\n",
              "    .dataframe tbody tr th:only-of-type {\n",
              "        vertical-align: middle;\n",
              "    }\n",
              "\n",
              "    .dataframe tbody tr th {\n",
              "        vertical-align: top;\n",
              "    }\n",
              "\n",
              "    .dataframe thead th {\n",
              "        text-align: right;\n",
              "    }\n",
              "</style>\n",
              "<table border=\"1\" class=\"dataframe\">\n",
              "  <thead>\n",
              "    <tr style=\"text-align: right;\">\n",
              "      <th></th>\n",
              "      <th>Churn</th>\n",
              "      <th>Tenure</th>\n",
              "      <th>CityTier</th>\n",
              "      <th>WarehouseToHome</th>\n",
              "      <th>HourSpendOnApp</th>\n",
              "      <th>NumberOfDeviceRegistered</th>\n",
              "      <th>SatisfactionScore</th>\n",
              "      <th>NumberOfAddress</th>\n",
              "      <th>Complain</th>\n",
              "      <th>OrderAmountHikeFromlastYear</th>\n",
              "      <th>CouponUsed</th>\n",
              "      <th>OrderCount</th>\n",
              "      <th>DaySinceLastOrder</th>\n",
              "      <th>CashbackAmount</th>\n",
              "    </tr>\n",
              "  </thead>\n",
              "  <tbody>\n",
              "    <tr>\n",
              "      <th>count</th>\n",
              "      <td>5630.000000</td>\n",
              "      <td>5366.000000</td>\n",
              "      <td>5630.000000</td>\n",
              "      <td>5379.000000</td>\n",
              "      <td>5375.000000</td>\n",
              "      <td>5630.000000</td>\n",
              "      <td>5630.000000</td>\n",
              "      <td>5630.000000</td>\n",
              "      <td>5630.000000</td>\n",
              "      <td>5365.000000</td>\n",
              "      <td>5374.000000</td>\n",
              "      <td>5372.000000</td>\n",
              "      <td>5323.000000</td>\n",
              "      <td>5630.000000</td>\n",
              "    </tr>\n",
              "    <tr>\n",
              "      <th>mean</th>\n",
              "      <td>0.168384</td>\n",
              "      <td>10.189899</td>\n",
              "      <td>1.654707</td>\n",
              "      <td>15.639896</td>\n",
              "      <td>2.931535</td>\n",
              "      <td>3.688988</td>\n",
              "      <td>3.066785</td>\n",
              "      <td>4.214032</td>\n",
              "      <td>0.284902</td>\n",
              "      <td>15.707922</td>\n",
              "      <td>1.751023</td>\n",
              "      <td>3.008004</td>\n",
              "      <td>4.543491</td>\n",
              "      <td>177.223030</td>\n",
              "    </tr>\n",
              "    <tr>\n",
              "      <th>std</th>\n",
              "      <td>0.374240</td>\n",
              "      <td>8.557241</td>\n",
              "      <td>0.915389</td>\n",
              "      <td>8.531475</td>\n",
              "      <td>0.721926</td>\n",
              "      <td>1.023999</td>\n",
              "      <td>1.380194</td>\n",
              "      <td>2.583586</td>\n",
              "      <td>0.451408</td>\n",
              "      <td>3.675485</td>\n",
              "      <td>1.894621</td>\n",
              "      <td>2.939680</td>\n",
              "      <td>3.654433</td>\n",
              "      <td>49.207036</td>\n",
              "    </tr>\n",
              "    <tr>\n",
              "      <th>min</th>\n",
              "      <td>0.000000</td>\n",
              "      <td>0.000000</td>\n",
              "      <td>1.000000</td>\n",
              "      <td>5.000000</td>\n",
              "      <td>0.000000</td>\n",
              "      <td>1.000000</td>\n",
              "      <td>1.000000</td>\n",
              "      <td>1.000000</td>\n",
              "      <td>0.000000</td>\n",
              "      <td>11.000000</td>\n",
              "      <td>0.000000</td>\n",
              "      <td>1.000000</td>\n",
              "      <td>0.000000</td>\n",
              "      <td>0.000000</td>\n",
              "    </tr>\n",
              "    <tr>\n",
              "      <th>25%</th>\n",
              "      <td>0.000000</td>\n",
              "      <td>2.000000</td>\n",
              "      <td>1.000000</td>\n",
              "      <td>9.000000</td>\n",
              "      <td>2.000000</td>\n",
              "      <td>3.000000</td>\n",
              "      <td>2.000000</td>\n",
              "      <td>2.000000</td>\n",
              "      <td>0.000000</td>\n",
              "      <td>13.000000</td>\n",
              "      <td>1.000000</td>\n",
              "      <td>1.000000</td>\n",
              "      <td>2.000000</td>\n",
              "      <td>145.770000</td>\n",
              "    </tr>\n",
              "    <tr>\n",
              "      <th>50%</th>\n",
              "      <td>0.000000</td>\n",
              "      <td>9.000000</td>\n",
              "      <td>1.000000</td>\n",
              "      <td>14.000000</td>\n",
              "      <td>3.000000</td>\n",
              "      <td>4.000000</td>\n",
              "      <td>3.000000</td>\n",
              "      <td>3.000000</td>\n",
              "      <td>0.000000</td>\n",
              "      <td>15.000000</td>\n",
              "      <td>1.000000</td>\n",
              "      <td>2.000000</td>\n",
              "      <td>3.000000</td>\n",
              "      <td>163.280000</td>\n",
              "    </tr>\n",
              "    <tr>\n",
              "      <th>75%</th>\n",
              "      <td>0.000000</td>\n",
              "      <td>16.000000</td>\n",
              "      <td>3.000000</td>\n",
              "      <td>20.000000</td>\n",
              "      <td>3.000000</td>\n",
              "      <td>4.000000</td>\n",
              "      <td>4.000000</td>\n",
              "      <td>6.000000</td>\n",
              "      <td>1.000000</td>\n",
              "      <td>18.000000</td>\n",
              "      <td>2.000000</td>\n",
              "      <td>3.000000</td>\n",
              "      <td>7.000000</td>\n",
              "      <td>196.392500</td>\n",
              "    </tr>\n",
              "    <tr>\n",
              "      <th>max</th>\n",
              "      <td>1.000000</td>\n",
              "      <td>61.000000</td>\n",
              "      <td>3.000000</td>\n",
              "      <td>127.000000</td>\n",
              "      <td>5.000000</td>\n",
              "      <td>6.000000</td>\n",
              "      <td>5.000000</td>\n",
              "      <td>22.000000</td>\n",
              "      <td>1.000000</td>\n",
              "      <td>26.000000</td>\n",
              "      <td>16.000000</td>\n",
              "      <td>16.000000</td>\n",
              "      <td>46.000000</td>\n",
              "      <td>324.990000</td>\n",
              "    </tr>\n",
              "  </tbody>\n",
              "</table>\n",
              "</div>\n",
              "      <button class=\"colab-df-convert\" onclick=\"convertToInteractive('df-7e142af7-6461-492d-9f44-d5b377d9c1b2')\"\n",
              "              title=\"Convert this dataframe to an interactive table.\"\n",
              "              style=\"display:none;\">\n",
              "        \n",
              "  <svg xmlns=\"http://www.w3.org/2000/svg\" height=\"24px\"viewBox=\"0 0 24 24\"\n",
              "       width=\"24px\">\n",
              "    <path d=\"M0 0h24v24H0V0z\" fill=\"none\"/>\n",
              "    <path d=\"M18.56 5.44l.94 2.06.94-2.06 2.06-.94-2.06-.94-.94-2.06-.94 2.06-2.06.94zm-11 1L8.5 8.5l.94-2.06 2.06-.94-2.06-.94L8.5 2.5l-.94 2.06-2.06.94zm10 10l.94 2.06.94-2.06 2.06-.94-2.06-.94-.94-2.06-.94 2.06-2.06.94z\"/><path d=\"M17.41 7.96l-1.37-1.37c-.4-.4-.92-.59-1.43-.59-.52 0-1.04.2-1.43.59L10.3 9.45l-7.72 7.72c-.78.78-.78 2.05 0 2.83L4 21.41c.39.39.9.59 1.41.59.51 0 1.02-.2 1.41-.59l7.78-7.78 2.81-2.81c.8-.78.8-2.07 0-2.86zM5.41 20L4 18.59l7.72-7.72 1.47 1.35L5.41 20z\"/>\n",
              "  </svg>\n",
              "      </button>\n",
              "      \n",
              "  <style>\n",
              "    .colab-df-container {\n",
              "      display:flex;\n",
              "      flex-wrap:wrap;\n",
              "      gap: 12px;\n",
              "    }\n",
              "\n",
              "    .colab-df-convert {\n",
              "      background-color: #E8F0FE;\n",
              "      border: none;\n",
              "      border-radius: 50%;\n",
              "      cursor: pointer;\n",
              "      display: none;\n",
              "      fill: #1967D2;\n",
              "      height: 32px;\n",
              "      padding: 0 0 0 0;\n",
              "      width: 32px;\n",
              "    }\n",
              "\n",
              "    .colab-df-convert:hover {\n",
              "      background-color: #E2EBFA;\n",
              "      box-shadow: 0px 1px 2px rgba(60, 64, 67, 0.3), 0px 1px 3px 1px rgba(60, 64, 67, 0.15);\n",
              "      fill: #174EA6;\n",
              "    }\n",
              "\n",
              "    [theme=dark] .colab-df-convert {\n",
              "      background-color: #3B4455;\n",
              "      fill: #D2E3FC;\n",
              "    }\n",
              "\n",
              "    [theme=dark] .colab-df-convert:hover {\n",
              "      background-color: #434B5C;\n",
              "      box-shadow: 0px 1px 3px 1px rgba(0, 0, 0, 0.15);\n",
              "      filter: drop-shadow(0px 1px 2px rgba(0, 0, 0, 0.3));\n",
              "      fill: #FFFFFF;\n",
              "    }\n",
              "  </style>\n",
              "\n",
              "      <script>\n",
              "        const buttonEl =\n",
              "          document.querySelector('#df-7e142af7-6461-492d-9f44-d5b377d9c1b2 button.colab-df-convert');\n",
              "        buttonEl.style.display =\n",
              "          google.colab.kernel.accessAllowed ? 'block' : 'none';\n",
              "\n",
              "        async function convertToInteractive(key) {\n",
              "          const element = document.querySelector('#df-7e142af7-6461-492d-9f44-d5b377d9c1b2');\n",
              "          const dataTable =\n",
              "            await google.colab.kernel.invokeFunction('convertToInteractive',\n",
              "                                                     [key], {});\n",
              "          if (!dataTable) return;\n",
              "\n",
              "          const docLinkHtml = 'Like what you see? Visit the ' +\n",
              "            '<a target=\"_blank\" href=https://colab.research.google.com/notebooks/data_table.ipynb>data table notebook</a>'\n",
              "            + ' to learn more about interactive tables.';\n",
              "          element.innerHTML = '';\n",
              "          dataTable['output_type'] = 'display_data';\n",
              "          await google.colab.output.renderOutput(dataTable, element);\n",
              "          const docLink = document.createElement('div');\n",
              "          docLink.innerHTML = docLinkHtml;\n",
              "          element.appendChild(docLink);\n",
              "        }\n",
              "      </script>\n",
              "    </div>\n",
              "  </div>\n",
              "  "
            ]
          },
          "metadata": {},
          "execution_count": 6
        }
      ]
    },
    {
      "cell_type": "code",
      "source": [
        "percentage_of_null_values = ((df.isnull().sum())*100/len(df)).sort_values(ascending = False)\n",
        "percentage_of_null_values"
      ],
      "metadata": {
        "colab": {
          "base_uri": "https://localhost:8080/"
        },
        "id": "NnUvNAYHEVF7",
        "outputId": "f98a3078-040b-4363-9c13-45d83dd80f15"
      },
      "execution_count": null,
      "outputs": [
        {
          "output_type": "execute_result",
          "data": {
            "text/plain": [
              "DaySinceLastOrder              5.452931\n",
              "OrderAmountHikeFromlastYear    4.706927\n",
              "Tenure                         4.689165\n",
              "OrderCount                     4.582593\n",
              "CouponUsed                     4.547069\n",
              "HourSpendOnApp                 4.529307\n",
              "WarehouseToHome                4.458259\n",
              "Churn                          0.000000\n",
              "MaritalStatus                  0.000000\n",
              "Complain                       0.000000\n",
              "NumberOfAddress                0.000000\n",
              "PreferedOrderCat               0.000000\n",
              "SatisfactionScore              0.000000\n",
              "NumberOfDeviceRegistered       0.000000\n",
              "Gender                         0.000000\n",
              "PreferredPaymentMode           0.000000\n",
              "CityTier                       0.000000\n",
              "PreferredLoginDevice           0.000000\n",
              "CashbackAmount                 0.000000\n",
              "dtype: float64"
            ]
          },
          "metadata": {},
          "execution_count": 7
        }
      ]
    },
    {
      "cell_type": "markdown",
      "source": [
        "\n",
        "*   7 variable have null value and all are them contain null value below 6%"
      ],
      "metadata": {
        "id": "hBtHo_3GDGV1"
      }
    },
    {
      "cell_type": "code",
      "source": [
        "df['Churn'].value_counts()"
      ],
      "metadata": {
        "colab": {
          "base_uri": "https://localhost:8080/"
        },
        "id": "6pW8mq3wEVI0",
        "outputId": "3a7c900a-90d6-44ad-cb26-ac5888790340"
      },
      "execution_count": null,
      "outputs": [
        {
          "output_type": "execute_result",
          "data": {
            "text/plain": [
              "0    4682\n",
              "1     948\n",
              "Name: Churn, dtype: int64"
            ]
          },
          "metadata": {},
          "execution_count": 8
        }
      ]
    },
    {
      "cell_type": "markdown",
      "source": [
        "\n",
        "\n",
        "*   For 0 label it contain 4682 value and for 1 label  it contain 948 value, which is the case of imbalance data \n",
        "\n"
      ],
      "metadata": {
        "id": "To9KScYm_4cg"
      }
    },
    {
      "cell_type": "markdown",
      "source": [
        "Identify the numeric and categorical variable"
      ],
      "metadata": {
        "id": "pZoOEZw1DdU_"
      }
    },
    {
      "cell_type": "code",
      "source": [
        "categorical_cols = ['PreferredLoginDevice', 'PreferredPaymentMode', 'Gender', 'PreferedOrderCat', 'MaritalStatus']\n",
        "\n",
        "numerical_cols = ['Churn', 'Tenure',  'CityTier',\n",
        "       'WarehouseToHome',  'HourSpendOnApp',\n",
        "       'NumberOfDeviceRegistered',  'SatisfactionScore',\n",
        "        'NumberOfAddress', 'Complain',\n",
        "       'OrderAmountHikeFromlastYear', 'CouponUsed', 'OrderCount',\n",
        "       'DaySinceLastOrder', 'CashbackAmount']"
      ],
      "metadata": {
        "id": "Ubv9dDEVEVMd"
      },
      "execution_count": null,
      "outputs": []
    },
    {
      "cell_type": "code",
      "source": [
        "df['PreferredLoginDevice'].value_counts()\n"
      ],
      "metadata": {
        "colab": {
          "base_uri": "https://localhost:8080/"
        },
        "id": "tZFjPVLYNcmL",
        "outputId": "9f047e7e-314b-478a-f512-28bac447b4b6"
      },
      "execution_count": null,
      "outputs": [
        {
          "output_type": "execute_result",
          "data": {
            "text/plain": [
              "Mobile Phone    2765\n",
              "Computer        1634\n",
              "Phone           1231\n",
              "Name: PreferredLoginDevice, dtype: int64"
            ]
          },
          "metadata": {},
          "execution_count": 10
        }
      ]
    },
    {
      "cell_type": "markdown",
      "source": [
        "\n",
        "\n",
        "*   As mobile phone and phone are both same so we have merged them\n"
      ],
      "metadata": {
        "id": "UBBqtMGvENaf"
      }
    },
    {
      "cell_type": "code",
      "source": [
        "df.loc[df['PreferredLoginDevice'] == 'Phone', 'PreferredLoginDevice' ] = 'Mobile Phone'"
      ],
      "metadata": {
        "id": "TK8Yf2bKVqSs"
      },
      "execution_count": null,
      "outputs": []
    },
    {
      "cell_type": "code",
      "source": [
        "df['PreferredLoginDevice'].value_counts()"
      ],
      "metadata": {
        "colab": {
          "base_uri": "https://localhost:8080/"
        },
        "id": "6iQuocsHWgQg",
        "outputId": "15806359-ba50-4b11-9131-927c68c137f8"
      },
      "execution_count": null,
      "outputs": [
        {
          "output_type": "execute_result",
          "data": {
            "text/plain": [
              "Mobile Phone    3996\n",
              "Computer        1634\n",
              "Name: PreferredLoginDevice, dtype: int64"
            ]
          },
          "metadata": {},
          "execution_count": 12
        }
      ]
    },
    {
      "cell_type": "code",
      "source": [
        "df['PreferredPaymentMode'].value_counts()\n"
      ],
      "metadata": {
        "colab": {
          "base_uri": "https://localhost:8080/"
        },
        "id": "cV3ekUhoTS8d",
        "outputId": "cd9a671a-5fd6-4225-e4d4-a9193a523510"
      },
      "execution_count": null,
      "outputs": [
        {
          "output_type": "execute_result",
          "data": {
            "text/plain": [
              "Debit Card          2314\n",
              "Credit Card         1501\n",
              "E wallet             614\n",
              "UPI                  414\n",
              "COD                  365\n",
              "CC                   273\n",
              "Cash on Delivery     149\n",
              "Name: PreferredPaymentMode, dtype: int64"
            ]
          },
          "metadata": {},
          "execution_count": 13
        }
      ]
    },
    {
      "cell_type": "markdown",
      "source": [
        "\n",
        "\n",
        "*   COD is Cash on Delivery only and CC is credit card, therefore we have merged them\n",
        "\n"
      ],
      "metadata": {
        "id": "muwB6kPjEvRC"
      }
    },
    {
      "cell_type": "code",
      "source": [
        "df.loc[df['PreferredPaymentMode'] == 'COD', 'PreferredPaymentMode' ] = 'Cash on Delivery'   # uses loc function\n",
        "df.loc[df['PreferredPaymentMode'] == 'CC', 'PreferredPaymentMode' ] = 'Credit Card'\n"
      ],
      "metadata": {
        "id": "BGcKLJXRWmB7"
      },
      "execution_count": null,
      "outputs": []
    },
    {
      "cell_type": "code",
      "source": [
        "df['PreferredPaymentMode'].value_counts()\n"
      ],
      "metadata": {
        "colab": {
          "base_uri": "https://localhost:8080/"
        },
        "id": "XQJXV2vrXEpb",
        "outputId": "28f3968d-16ee-4dd2-c27f-394fe9955c2e"
      },
      "execution_count": null,
      "outputs": [
        {
          "output_type": "execute_result",
          "data": {
            "text/plain": [
              "Debit Card          2314\n",
              "Credit Card         1774\n",
              "E wallet             614\n",
              "Cash on Delivery     514\n",
              "UPI                  414\n",
              "Name: PreferredPaymentMode, dtype: int64"
            ]
          },
          "metadata": {},
          "execution_count": 15
        }
      ]
    },
    {
      "cell_type": "code",
      "source": [
        "df['Gender'].value_counts()\n"
      ],
      "metadata": {
        "colab": {
          "base_uri": "https://localhost:8080/"
        },
        "id": "IiO5ecByTS_1",
        "outputId": "3125dec6-4272-43a4-98cf-391f04e43051"
      },
      "execution_count": null,
      "outputs": [
        {
          "output_type": "execute_result",
          "data": {
            "text/plain": [
              "Male      3384\n",
              "Female    2246\n",
              "Name: Gender, dtype: int64"
            ]
          },
          "metadata": {},
          "execution_count": 16
        }
      ]
    },
    {
      "cell_type": "code",
      "source": [
        "df['PreferedOrderCat'].value_counts()\n"
      ],
      "metadata": {
        "colab": {
          "base_uri": "https://localhost:8080/"
        },
        "id": "h9D22BqHTfOI",
        "outputId": "bb7578a9-a161-4944-9c3d-cd1586bb3bf0"
      },
      "execution_count": null,
      "outputs": [
        {
          "output_type": "execute_result",
          "data": {
            "text/plain": [
              "Laptop & Accessory    2050\n",
              "Mobile Phone          1271\n",
              "Fashion                826\n",
              "Mobile                 809\n",
              "Grocery                410\n",
              "Others                 264\n",
              "Name: PreferedOrderCat, dtype: int64"
            ]
          },
          "metadata": {},
          "execution_count": 17
        }
      ]
    },
    {
      "cell_type": "code",
      "source": [
        "df.loc[df['PreferedOrderCat'] == 'Mobile', 'PreferedOrderCat' ] = 'Mobile Phone'\n"
      ],
      "metadata": {
        "id": "quGbymLCWVdK"
      },
      "execution_count": null,
      "outputs": []
    },
    {
      "cell_type": "code",
      "source": [
        "df['PreferedOrderCat'].value_counts()\n"
      ],
      "metadata": {
        "colab": {
          "base_uri": "https://localhost:8080/"
        },
        "id": "f74tslr6WhPG",
        "outputId": "8d214669-5c6b-40f6-d7ff-c7e90691f15a"
      },
      "execution_count": null,
      "outputs": [
        {
          "output_type": "execute_result",
          "data": {
            "text/plain": [
              "Mobile Phone          2080\n",
              "Laptop & Accessory    2050\n",
              "Fashion                826\n",
              "Grocery                410\n",
              "Others                 264\n",
              "Name: PreferedOrderCat, dtype: int64"
            ]
          },
          "metadata": {},
          "execution_count": 19
        }
      ]
    },
    {
      "cell_type": "code",
      "source": [
        "df['MaritalStatus'].value_counts()\n"
      ],
      "metadata": {
        "colab": {
          "base_uri": "https://localhost:8080/"
        },
        "id": "AcsgvY7UTh6f",
        "outputId": "3632b19b-34ce-4aee-c479-21b0fb5c283d"
      },
      "execution_count": null,
      "outputs": [
        {
          "output_type": "execute_result",
          "data": {
            "text/plain": [
              "Married     2986\n",
              "Single      1796\n",
              "Divorced     848\n",
              "Name: MaritalStatus, dtype: int64"
            ]
          },
          "metadata": {},
          "execution_count": 20
        }
      ]
    },
    {
      "cell_type": "markdown",
      "source": [
        "**Imputing mean value**  \n",
        "In this null value of variable are replace by the mean value of variable "
      ],
      "metadata": {
        "id": "J-lri2d2Lt2s"
      }
    },
    {
      "cell_type": "code",
      "source": [
        "from sklearn.impute import SimpleImputer\n",
        "imputer = SimpleImputer(strategy= 'mean')      \n",
        "imputer.fit(df[numerical_cols])\n",
        "df[numerical_cols] = imputer.transform(df[numerical_cols])\n"
      ],
      "metadata": {
        "id": "Gw3zTBCDM6vd"
      },
      "execution_count": null,
      "outputs": []
    },
    {
      "cell_type": "code",
      "source": [
        "df.isnull().sum()     # checking the null value"
      ],
      "metadata": {
        "colab": {
          "base_uri": "https://localhost:8080/"
        },
        "id": "zPgnNL4NQr_Y",
        "outputId": "93b2cd66-ef06-462f-f9f5-bb96b806c2d1"
      },
      "execution_count": null,
      "outputs": [
        {
          "output_type": "execute_result",
          "data": {
            "text/plain": [
              "Churn                          0\n",
              "Tenure                         0\n",
              "PreferredLoginDevice           0\n",
              "CityTier                       0\n",
              "WarehouseToHome                0\n",
              "PreferredPaymentMode           0\n",
              "Gender                         0\n",
              "HourSpendOnApp                 0\n",
              "NumberOfDeviceRegistered       0\n",
              "PreferedOrderCat               0\n",
              "SatisfactionScore              0\n",
              "MaritalStatus                  0\n",
              "NumberOfAddress                0\n",
              "Complain                       0\n",
              "OrderAmountHikeFromlastYear    0\n",
              "CouponUsed                     0\n",
              "OrderCount                     0\n",
              "DaySinceLastOrder              0\n",
              "CashbackAmount                 0\n",
              "dtype: int64"
            ]
          },
          "metadata": {},
          "execution_count": 22
        }
      ]
    },
    {
      "cell_type": "markdown",
      "source": [
        "\n",
        "\n",
        "*   Now there is no null value present in the dataset\n",
        "\n"
      ],
      "metadata": {
        "id": "VBihrbjGFg-d"
      }
    },
    {
      "cell_type": "markdown",
      "source": [
        "**Scaling the numerical feature**  \n",
        "As some feature have very high value and some have low value, so to decrease the unwanted influnece on target variable we will use scaling function. for this purpose minmax scaler functon will be use which convert all value between 0 to 1"
      ],
      "metadata": {
        "id": "YHPTe2yaL1nx"
      }
    },
    {
      "cell_type": "code",
      "source": [
        "from sklearn.preprocessing import MinMaxScaler\n",
        "scaler = MinMaxScaler()\n",
        "scaler.fit(df[numerical_cols])\n",
        "df[numerical_cols] = scaler.transform(df[numerical_cols])"
      ],
      "metadata": {
        "id": "W1076wVkQH7-"
      },
      "execution_count": null,
      "outputs": []
    },
    {
      "cell_type": "code",
      "source": [
        "df[numerical_cols]"
      ],
      "metadata": {
        "colab": {
          "base_uri": "https://localhost:8080/",
          "height": 487
        },
        "id": "wIzb7dhYM656",
        "outputId": "a4cd52c5-65b5-4295-9354-af70a8d45a5b"
      },
      "execution_count": null,
      "outputs": [
        {
          "output_type": "execute_result",
          "data": {
            "text/plain": [
              "      Churn    Tenure  CityTier  WarehouseToHome  HourSpendOnApp  \\\n",
              "0       1.0  0.065574       1.0         0.008197        0.600000   \n",
              "1       1.0  0.167048       0.0         0.024590        0.600000   \n",
              "2       1.0  0.167048       0.0         0.204918        0.400000   \n",
              "3       1.0  0.000000       1.0         0.081967        0.400000   \n",
              "4       1.0  0.000000       0.0         0.057377        0.586307   \n",
              "...     ...       ...       ...              ...             ...   \n",
              "5625    0.0  0.163934       0.0         0.204918        0.600000   \n",
              "5626    0.0  0.213115       0.0         0.065574        0.600000   \n",
              "5627    0.0  0.016393       0.0         0.049180        0.600000   \n",
              "5628    0.0  0.377049       1.0         0.032787        0.800000   \n",
              "5629    0.0  0.131148       0.0         0.081967        0.600000   \n",
              "\n",
              "      NumberOfDeviceRegistered  SatisfactionScore  NumberOfAddress  Complain  \\\n",
              "0                          0.4               0.25         0.380952       1.0   \n",
              "1                          0.6               0.50         0.285714       1.0   \n",
              "2                          0.6               0.50         0.238095       1.0   \n",
              "3                          0.6               1.00         0.333333       0.0   \n",
              "4                          0.4               1.00         0.095238       0.0   \n",
              "...                        ...                ...              ...       ...   \n",
              "5625                       0.2               0.00         0.238095       0.0   \n",
              "5626                       0.8               1.00         0.238095       0.0   \n",
              "5627                       0.2               0.75         0.095238       1.0   \n",
              "5628                       0.8               0.75         0.142857       0.0   \n",
              "5629                       0.2               0.50         0.142857       0.0   \n",
              "\n",
              "      OrderAmountHikeFromlastYear  CouponUsed  OrderCount  DaySinceLastOrder  \\\n",
              "0                        0.000000      0.0625    0.000000           0.108696   \n",
              "1                        0.266667      0.0000    0.000000           0.000000   \n",
              "2                        0.200000      0.0000    0.000000           0.065217   \n",
              "3                        0.800000      0.0000    0.000000           0.065217   \n",
              "4                        0.000000      0.0625    0.000000           0.065217   \n",
              "...                           ...         ...         ...                ...   \n",
              "5625                     0.466667      0.0625    0.066667           0.086957   \n",
              "5626                     0.333333      0.0625    0.066667           0.098772   \n",
              "5627                     0.666667      0.0625    0.066667           0.086957   \n",
              "5628                     0.266667      0.1250    0.066667           0.195652   \n",
              "5629                     0.133333      0.1250    0.066667           0.065217   \n",
              "\n",
              "      CashbackAmount  \n",
              "0           0.492107  \n",
              "1           0.372011  \n",
              "2           0.370104  \n",
              "3           0.412536  \n",
              "4           0.398782  \n",
              "...              ...  \n",
              "5625        0.463737  \n",
              "5626        0.692052  \n",
              "5627        0.573618  \n",
              "5628        0.550478  \n",
              "5629        0.520139  \n",
              "\n",
              "[5630 rows x 14 columns]"
            ],
            "text/html": [
              "\n",
              "  <div id=\"df-e1bf8ebd-58bf-491f-aa44-5e87d4d7c966\">\n",
              "    <div class=\"colab-df-container\">\n",
              "      <div>\n",
              "<style scoped>\n",
              "    .dataframe tbody tr th:only-of-type {\n",
              "        vertical-align: middle;\n",
              "    }\n",
              "\n",
              "    .dataframe tbody tr th {\n",
              "        vertical-align: top;\n",
              "    }\n",
              "\n",
              "    .dataframe thead th {\n",
              "        text-align: right;\n",
              "    }\n",
              "</style>\n",
              "<table border=\"1\" class=\"dataframe\">\n",
              "  <thead>\n",
              "    <tr style=\"text-align: right;\">\n",
              "      <th></th>\n",
              "      <th>Churn</th>\n",
              "      <th>Tenure</th>\n",
              "      <th>CityTier</th>\n",
              "      <th>WarehouseToHome</th>\n",
              "      <th>HourSpendOnApp</th>\n",
              "      <th>NumberOfDeviceRegistered</th>\n",
              "      <th>SatisfactionScore</th>\n",
              "      <th>NumberOfAddress</th>\n",
              "      <th>Complain</th>\n",
              "      <th>OrderAmountHikeFromlastYear</th>\n",
              "      <th>CouponUsed</th>\n",
              "      <th>OrderCount</th>\n",
              "      <th>DaySinceLastOrder</th>\n",
              "      <th>CashbackAmount</th>\n",
              "    </tr>\n",
              "  </thead>\n",
              "  <tbody>\n",
              "    <tr>\n",
              "      <th>0</th>\n",
              "      <td>1.0</td>\n",
              "      <td>0.065574</td>\n",
              "      <td>1.0</td>\n",
              "      <td>0.008197</td>\n",
              "      <td>0.600000</td>\n",
              "      <td>0.4</td>\n",
              "      <td>0.25</td>\n",
              "      <td>0.380952</td>\n",
              "      <td>1.0</td>\n",
              "      <td>0.000000</td>\n",
              "      <td>0.0625</td>\n",
              "      <td>0.000000</td>\n",
              "      <td>0.108696</td>\n",
              "      <td>0.492107</td>\n",
              "    </tr>\n",
              "    <tr>\n",
              "      <th>1</th>\n",
              "      <td>1.0</td>\n",
              "      <td>0.167048</td>\n",
              "      <td>0.0</td>\n",
              "      <td>0.024590</td>\n",
              "      <td>0.600000</td>\n",
              "      <td>0.6</td>\n",
              "      <td>0.50</td>\n",
              "      <td>0.285714</td>\n",
              "      <td>1.0</td>\n",
              "      <td>0.266667</td>\n",
              "      <td>0.0000</td>\n",
              "      <td>0.000000</td>\n",
              "      <td>0.000000</td>\n",
              "      <td>0.372011</td>\n",
              "    </tr>\n",
              "    <tr>\n",
              "      <th>2</th>\n",
              "      <td>1.0</td>\n",
              "      <td>0.167048</td>\n",
              "      <td>0.0</td>\n",
              "      <td>0.204918</td>\n",
              "      <td>0.400000</td>\n",
              "      <td>0.6</td>\n",
              "      <td>0.50</td>\n",
              "      <td>0.238095</td>\n",
              "      <td>1.0</td>\n",
              "      <td>0.200000</td>\n",
              "      <td>0.0000</td>\n",
              "      <td>0.000000</td>\n",
              "      <td>0.065217</td>\n",
              "      <td>0.370104</td>\n",
              "    </tr>\n",
              "    <tr>\n",
              "      <th>3</th>\n",
              "      <td>1.0</td>\n",
              "      <td>0.000000</td>\n",
              "      <td>1.0</td>\n",
              "      <td>0.081967</td>\n",
              "      <td>0.400000</td>\n",
              "      <td>0.6</td>\n",
              "      <td>1.00</td>\n",
              "      <td>0.333333</td>\n",
              "      <td>0.0</td>\n",
              "      <td>0.800000</td>\n",
              "      <td>0.0000</td>\n",
              "      <td>0.000000</td>\n",
              "      <td>0.065217</td>\n",
              "      <td>0.412536</td>\n",
              "    </tr>\n",
              "    <tr>\n",
              "      <th>4</th>\n",
              "      <td>1.0</td>\n",
              "      <td>0.000000</td>\n",
              "      <td>0.0</td>\n",
              "      <td>0.057377</td>\n",
              "      <td>0.586307</td>\n",
              "      <td>0.4</td>\n",
              "      <td>1.00</td>\n",
              "      <td>0.095238</td>\n",
              "      <td>0.0</td>\n",
              "      <td>0.000000</td>\n",
              "      <td>0.0625</td>\n",
              "      <td>0.000000</td>\n",
              "      <td>0.065217</td>\n",
              "      <td>0.398782</td>\n",
              "    </tr>\n",
              "    <tr>\n",
              "      <th>...</th>\n",
              "      <td>...</td>\n",
              "      <td>...</td>\n",
              "      <td>...</td>\n",
              "      <td>...</td>\n",
              "      <td>...</td>\n",
              "      <td>...</td>\n",
              "      <td>...</td>\n",
              "      <td>...</td>\n",
              "      <td>...</td>\n",
              "      <td>...</td>\n",
              "      <td>...</td>\n",
              "      <td>...</td>\n",
              "      <td>...</td>\n",
              "      <td>...</td>\n",
              "    </tr>\n",
              "    <tr>\n",
              "      <th>5625</th>\n",
              "      <td>0.0</td>\n",
              "      <td>0.163934</td>\n",
              "      <td>0.0</td>\n",
              "      <td>0.204918</td>\n",
              "      <td>0.600000</td>\n",
              "      <td>0.2</td>\n",
              "      <td>0.00</td>\n",
              "      <td>0.238095</td>\n",
              "      <td>0.0</td>\n",
              "      <td>0.466667</td>\n",
              "      <td>0.0625</td>\n",
              "      <td>0.066667</td>\n",
              "      <td>0.086957</td>\n",
              "      <td>0.463737</td>\n",
              "    </tr>\n",
              "    <tr>\n",
              "      <th>5626</th>\n",
              "      <td>0.0</td>\n",
              "      <td>0.213115</td>\n",
              "      <td>0.0</td>\n",
              "      <td>0.065574</td>\n",
              "      <td>0.600000</td>\n",
              "      <td>0.8</td>\n",
              "      <td>1.00</td>\n",
              "      <td>0.238095</td>\n",
              "      <td>0.0</td>\n",
              "      <td>0.333333</td>\n",
              "      <td>0.0625</td>\n",
              "      <td>0.066667</td>\n",
              "      <td>0.098772</td>\n",
              "      <td>0.692052</td>\n",
              "    </tr>\n",
              "    <tr>\n",
              "      <th>5627</th>\n",
              "      <td>0.0</td>\n",
              "      <td>0.016393</td>\n",
              "      <td>0.0</td>\n",
              "      <td>0.049180</td>\n",
              "      <td>0.600000</td>\n",
              "      <td>0.2</td>\n",
              "      <td>0.75</td>\n",
              "      <td>0.095238</td>\n",
              "      <td>1.0</td>\n",
              "      <td>0.666667</td>\n",
              "      <td>0.0625</td>\n",
              "      <td>0.066667</td>\n",
              "      <td>0.086957</td>\n",
              "      <td>0.573618</td>\n",
              "    </tr>\n",
              "    <tr>\n",
              "      <th>5628</th>\n",
              "      <td>0.0</td>\n",
              "      <td>0.377049</td>\n",
              "      <td>1.0</td>\n",
              "      <td>0.032787</td>\n",
              "      <td>0.800000</td>\n",
              "      <td>0.8</td>\n",
              "      <td>0.75</td>\n",
              "      <td>0.142857</td>\n",
              "      <td>0.0</td>\n",
              "      <td>0.266667</td>\n",
              "      <td>0.1250</td>\n",
              "      <td>0.066667</td>\n",
              "      <td>0.195652</td>\n",
              "      <td>0.550478</td>\n",
              "    </tr>\n",
              "    <tr>\n",
              "      <th>5629</th>\n",
              "      <td>0.0</td>\n",
              "      <td>0.131148</td>\n",
              "      <td>0.0</td>\n",
              "      <td>0.081967</td>\n",
              "      <td>0.600000</td>\n",
              "      <td>0.2</td>\n",
              "      <td>0.50</td>\n",
              "      <td>0.142857</td>\n",
              "      <td>0.0</td>\n",
              "      <td>0.133333</td>\n",
              "      <td>0.1250</td>\n",
              "      <td>0.066667</td>\n",
              "      <td>0.065217</td>\n",
              "      <td>0.520139</td>\n",
              "    </tr>\n",
              "  </tbody>\n",
              "</table>\n",
              "<p>5630 rows × 14 columns</p>\n",
              "</div>\n",
              "      <button class=\"colab-df-convert\" onclick=\"convertToInteractive('df-e1bf8ebd-58bf-491f-aa44-5e87d4d7c966')\"\n",
              "              title=\"Convert this dataframe to an interactive table.\"\n",
              "              style=\"display:none;\">\n",
              "        \n",
              "  <svg xmlns=\"http://www.w3.org/2000/svg\" height=\"24px\"viewBox=\"0 0 24 24\"\n",
              "       width=\"24px\">\n",
              "    <path d=\"M0 0h24v24H0V0z\" fill=\"none\"/>\n",
              "    <path d=\"M18.56 5.44l.94 2.06.94-2.06 2.06-.94-2.06-.94-.94-2.06-.94 2.06-2.06.94zm-11 1L8.5 8.5l.94-2.06 2.06-.94-2.06-.94L8.5 2.5l-.94 2.06-2.06.94zm10 10l.94 2.06.94-2.06 2.06-.94-2.06-.94-.94-2.06-.94 2.06-2.06.94z\"/><path d=\"M17.41 7.96l-1.37-1.37c-.4-.4-.92-.59-1.43-.59-.52 0-1.04.2-1.43.59L10.3 9.45l-7.72 7.72c-.78.78-.78 2.05 0 2.83L4 21.41c.39.39.9.59 1.41.59.51 0 1.02-.2 1.41-.59l7.78-7.78 2.81-2.81c.8-.78.8-2.07 0-2.86zM5.41 20L4 18.59l7.72-7.72 1.47 1.35L5.41 20z\"/>\n",
              "  </svg>\n",
              "      </button>\n",
              "      \n",
              "  <style>\n",
              "    .colab-df-container {\n",
              "      display:flex;\n",
              "      flex-wrap:wrap;\n",
              "      gap: 12px;\n",
              "    }\n",
              "\n",
              "    .colab-df-convert {\n",
              "      background-color: #E8F0FE;\n",
              "      border: none;\n",
              "      border-radius: 50%;\n",
              "      cursor: pointer;\n",
              "      display: none;\n",
              "      fill: #1967D2;\n",
              "      height: 32px;\n",
              "      padding: 0 0 0 0;\n",
              "      width: 32px;\n",
              "    }\n",
              "\n",
              "    .colab-df-convert:hover {\n",
              "      background-color: #E2EBFA;\n",
              "      box-shadow: 0px 1px 2px rgba(60, 64, 67, 0.3), 0px 1px 3px 1px rgba(60, 64, 67, 0.15);\n",
              "      fill: #174EA6;\n",
              "    }\n",
              "\n",
              "    [theme=dark] .colab-df-convert {\n",
              "      background-color: #3B4455;\n",
              "      fill: #D2E3FC;\n",
              "    }\n",
              "\n",
              "    [theme=dark] .colab-df-convert:hover {\n",
              "      background-color: #434B5C;\n",
              "      box-shadow: 0px 1px 3px 1px rgba(0, 0, 0, 0.15);\n",
              "      filter: drop-shadow(0px 1px 2px rgba(0, 0, 0, 0.3));\n",
              "      fill: #FFFFFF;\n",
              "    }\n",
              "  </style>\n",
              "\n",
              "      <script>\n",
              "        const buttonEl =\n",
              "          document.querySelector('#df-e1bf8ebd-58bf-491f-aa44-5e87d4d7c966 button.colab-df-convert');\n",
              "        buttonEl.style.display =\n",
              "          google.colab.kernel.accessAllowed ? 'block' : 'none';\n",
              "\n",
              "        async function convertToInteractive(key) {\n",
              "          const element = document.querySelector('#df-e1bf8ebd-58bf-491f-aa44-5e87d4d7c966');\n",
              "          const dataTable =\n",
              "            await google.colab.kernel.invokeFunction('convertToInteractive',\n",
              "                                                     [key], {});\n",
              "          if (!dataTable) return;\n",
              "\n",
              "          const docLinkHtml = 'Like what you see? Visit the ' +\n",
              "            '<a target=\"_blank\" href=https://colab.research.google.com/notebooks/data_table.ipynb>data table notebook</a>'\n",
              "            + ' to learn more about interactive tables.';\n",
              "          element.innerHTML = '';\n",
              "          dataTable['output_type'] = 'display_data';\n",
              "          await google.colab.output.renderOutput(dataTable, element);\n",
              "          const docLink = document.createElement('div');\n",
              "          docLink.innerHTML = docLinkHtml;\n",
              "          element.appendChild(docLink);\n",
              "        }\n",
              "      </script>\n",
              "    </div>\n",
              "  </div>\n",
              "  "
            ]
          },
          "metadata": {},
          "execution_count": 24
        }
      ]
    },
    {
      "cell_type": "markdown",
      "source": [
        "**Encoding the categorical feature**  \n",
        "Machine Learning algorithm only take the numeric value that is why categorical variable needed to convert into numeric variable.  \n",
        "For this purpose One hot Encoding technique will be used."
      ],
      "metadata": {
        "id": "4a32mVCPL_s0"
      }
    },
    {
      "cell_type": "code",
      "source": [
        "from sklearn.preprocessing import OneHotEncoder\n",
        "encoder = OneHotEncoder(handle_unknown = 'ignore', sparse = False)\n",
        "encoder.fit(df[categorical_cols])\n",
        "encoded_cols = list(encoder.get_feature_names(categorical_cols))\n",
        "print(encoded_cols)\n",
        "df[encoded_cols] = encoder.transform(df[categorical_cols])"
      ],
      "metadata": {
        "colab": {
          "base_uri": "https://localhost:8080/"
        },
        "id": "ehvw1acZM68u",
        "outputId": "3abbfb71-f010-43b8-dbd8-0a089a64c217"
      },
      "execution_count": null,
      "outputs": [
        {
          "output_type": "stream",
          "name": "stdout",
          "text": [
            "['PreferredLoginDevice_Computer', 'PreferredLoginDevice_Mobile Phone', 'PreferredPaymentMode_Cash on Delivery', 'PreferredPaymentMode_Credit Card', 'PreferredPaymentMode_Debit Card', 'PreferredPaymentMode_E wallet', 'PreferredPaymentMode_UPI', 'Gender_Female', 'Gender_Male', 'PreferedOrderCat_Fashion', 'PreferedOrderCat_Grocery', 'PreferedOrderCat_Laptop & Accessory', 'PreferedOrderCat_Mobile Phone', 'PreferedOrderCat_Others', 'MaritalStatus_Divorced', 'MaritalStatus_Married', 'MaritalStatus_Single']\n"
          ]
        },
        {
          "output_type": "stream",
          "name": "stderr",
          "text": [
            "/usr/local/lib/python3.7/dist-packages/sklearn/utils/deprecation.py:87: FutureWarning: Function get_feature_names is deprecated; get_feature_names is deprecated in 1.0 and will be removed in 1.2. Please use get_feature_names_out instead.\n",
            "  warnings.warn(msg, category=FutureWarning)\n"
          ]
        }
      ]
    },
    {
      "cell_type": "code",
      "source": [
        "df[encoded_cols]"
      ],
      "metadata": {
        "colab": {
          "base_uri": "https://localhost:8080/",
          "height": 505
        },
        "id": "Wqo3r-aGM6_b",
        "outputId": "1b2581aa-cadc-4374-b611-0caf85ed9cf9"
      },
      "execution_count": null,
      "outputs": [
        {
          "output_type": "execute_result",
          "data": {
            "text/plain": [
              "      PreferredLoginDevice_Computer  PreferredLoginDevice_Mobile Phone  \\\n",
              "0                               0.0                                1.0   \n",
              "1                               0.0                                1.0   \n",
              "2                               0.0                                1.0   \n",
              "3                               0.0                                1.0   \n",
              "4                               0.0                                1.0   \n",
              "...                             ...                                ...   \n",
              "5625                            1.0                                0.0   \n",
              "5626                            0.0                                1.0   \n",
              "5627                            0.0                                1.0   \n",
              "5628                            1.0                                0.0   \n",
              "5629                            0.0                                1.0   \n",
              "\n",
              "      PreferredPaymentMode_Cash on Delivery  PreferredPaymentMode_Credit Card  \\\n",
              "0                                       0.0                               0.0   \n",
              "1                                       0.0                               0.0   \n",
              "2                                       0.0                               0.0   \n",
              "3                                       0.0                               0.0   \n",
              "4                                       0.0                               1.0   \n",
              "...                                     ...                               ...   \n",
              "5625                                    0.0                               1.0   \n",
              "5626                                    0.0                               1.0   \n",
              "5627                                    0.0                               0.0   \n",
              "5628                                    0.0                               1.0   \n",
              "5629                                    0.0                               1.0   \n",
              "\n",
              "      PreferredPaymentMode_Debit Card  PreferredPaymentMode_E wallet  \\\n",
              "0                                 1.0                            0.0   \n",
              "1                                 0.0                            0.0   \n",
              "2                                 1.0                            0.0   \n",
              "3                                 1.0                            0.0   \n",
              "4                                 0.0                            0.0   \n",
              "...                               ...                            ...   \n",
              "5625                              0.0                            0.0   \n",
              "5626                              0.0                            0.0   \n",
              "5627                              1.0                            0.0   \n",
              "5628                              0.0                            0.0   \n",
              "5629                              0.0                            0.0   \n",
              "\n",
              "      PreferredPaymentMode_UPI  Gender_Female  Gender_Male  \\\n",
              "0                          0.0            1.0          0.0   \n",
              "1                          1.0            0.0          1.0   \n",
              "2                          0.0            0.0          1.0   \n",
              "3                          0.0            0.0          1.0   \n",
              "4                          0.0            0.0          1.0   \n",
              "...                        ...            ...          ...   \n",
              "5625                       0.0            0.0          1.0   \n",
              "5626                       0.0            0.0          1.0   \n",
              "5627                       0.0            0.0          1.0   \n",
              "5628                       0.0            0.0          1.0   \n",
              "5629                       0.0            0.0          1.0   \n",
              "\n",
              "      PreferedOrderCat_Fashion  PreferedOrderCat_Grocery  \\\n",
              "0                          0.0                       0.0   \n",
              "1                          0.0                       0.0   \n",
              "2                          0.0                       0.0   \n",
              "3                          0.0                       0.0   \n",
              "4                          0.0                       0.0   \n",
              "...                        ...                       ...   \n",
              "5625                       0.0                       0.0   \n",
              "5626                       1.0                       0.0   \n",
              "5627                       0.0                       0.0   \n",
              "5628                       0.0                       0.0   \n",
              "5629                       0.0                       0.0   \n",
              "\n",
              "      PreferedOrderCat_Laptop & Accessory  PreferedOrderCat_Mobile Phone  \\\n",
              "0                                     1.0                            0.0   \n",
              "1                                     0.0                            1.0   \n",
              "2                                     0.0                            1.0   \n",
              "3                                     1.0                            0.0   \n",
              "4                                     0.0                            1.0   \n",
              "...                                   ...                            ...   \n",
              "5625                                  1.0                            0.0   \n",
              "5626                                  0.0                            0.0   \n",
              "5627                                  1.0                            0.0   \n",
              "5628                                  1.0                            0.0   \n",
              "5629                                  1.0                            0.0   \n",
              "\n",
              "      PreferedOrderCat_Others  MaritalStatus_Divorced  MaritalStatus_Married  \\\n",
              "0                         0.0                     0.0                    0.0   \n",
              "1                         0.0                     0.0                    0.0   \n",
              "2                         0.0                     0.0                    0.0   \n",
              "3                         0.0                     0.0                    0.0   \n",
              "4                         0.0                     0.0                    0.0   \n",
              "...                       ...                     ...                    ...   \n",
              "5625                      0.0                     0.0                    1.0   \n",
              "5626                      0.0                     0.0                    1.0   \n",
              "5627                      0.0                     0.0                    1.0   \n",
              "5628                      0.0                     0.0                    1.0   \n",
              "5629                      0.0                     0.0                    1.0   \n",
              "\n",
              "      MaritalStatus_Single  \n",
              "0                      1.0  \n",
              "1                      1.0  \n",
              "2                      1.0  \n",
              "3                      1.0  \n",
              "4                      1.0  \n",
              "...                    ...  \n",
              "5625                   0.0  \n",
              "5626                   0.0  \n",
              "5627                   0.0  \n",
              "5628                   0.0  \n",
              "5629                   0.0  \n",
              "\n",
              "[5630 rows x 17 columns]"
            ],
            "text/html": [
              "\n",
              "  <div id=\"df-799bd1c1-97a5-465b-9104-0fab77700195\">\n",
              "    <div class=\"colab-df-container\">\n",
              "      <div>\n",
              "<style scoped>\n",
              "    .dataframe tbody tr th:only-of-type {\n",
              "        vertical-align: middle;\n",
              "    }\n",
              "\n",
              "    .dataframe tbody tr th {\n",
              "        vertical-align: top;\n",
              "    }\n",
              "\n",
              "    .dataframe thead th {\n",
              "        text-align: right;\n",
              "    }\n",
              "</style>\n",
              "<table border=\"1\" class=\"dataframe\">\n",
              "  <thead>\n",
              "    <tr style=\"text-align: right;\">\n",
              "      <th></th>\n",
              "      <th>PreferredLoginDevice_Computer</th>\n",
              "      <th>PreferredLoginDevice_Mobile Phone</th>\n",
              "      <th>PreferredPaymentMode_Cash on Delivery</th>\n",
              "      <th>PreferredPaymentMode_Credit Card</th>\n",
              "      <th>PreferredPaymentMode_Debit Card</th>\n",
              "      <th>PreferredPaymentMode_E wallet</th>\n",
              "      <th>PreferredPaymentMode_UPI</th>\n",
              "      <th>Gender_Female</th>\n",
              "      <th>Gender_Male</th>\n",
              "      <th>PreferedOrderCat_Fashion</th>\n",
              "      <th>PreferedOrderCat_Grocery</th>\n",
              "      <th>PreferedOrderCat_Laptop &amp; Accessory</th>\n",
              "      <th>PreferedOrderCat_Mobile Phone</th>\n",
              "      <th>PreferedOrderCat_Others</th>\n",
              "      <th>MaritalStatus_Divorced</th>\n",
              "      <th>MaritalStatus_Married</th>\n",
              "      <th>MaritalStatus_Single</th>\n",
              "    </tr>\n",
              "  </thead>\n",
              "  <tbody>\n",
              "    <tr>\n",
              "      <th>0</th>\n",
              "      <td>0.0</td>\n",
              "      <td>1.0</td>\n",
              "      <td>0.0</td>\n",
              "      <td>0.0</td>\n",
              "      <td>1.0</td>\n",
              "      <td>0.0</td>\n",
              "      <td>0.0</td>\n",
              "      <td>1.0</td>\n",
              "      <td>0.0</td>\n",
              "      <td>0.0</td>\n",
              "      <td>0.0</td>\n",
              "      <td>1.0</td>\n",
              "      <td>0.0</td>\n",
              "      <td>0.0</td>\n",
              "      <td>0.0</td>\n",
              "      <td>0.0</td>\n",
              "      <td>1.0</td>\n",
              "    </tr>\n",
              "    <tr>\n",
              "      <th>1</th>\n",
              "      <td>0.0</td>\n",
              "      <td>1.0</td>\n",
              "      <td>0.0</td>\n",
              "      <td>0.0</td>\n",
              "      <td>0.0</td>\n",
              "      <td>0.0</td>\n",
              "      <td>1.0</td>\n",
              "      <td>0.0</td>\n",
              "      <td>1.0</td>\n",
              "      <td>0.0</td>\n",
              "      <td>0.0</td>\n",
              "      <td>0.0</td>\n",
              "      <td>1.0</td>\n",
              "      <td>0.0</td>\n",
              "      <td>0.0</td>\n",
              "      <td>0.0</td>\n",
              "      <td>1.0</td>\n",
              "    </tr>\n",
              "    <tr>\n",
              "      <th>2</th>\n",
              "      <td>0.0</td>\n",
              "      <td>1.0</td>\n",
              "      <td>0.0</td>\n",
              "      <td>0.0</td>\n",
              "      <td>1.0</td>\n",
              "      <td>0.0</td>\n",
              "      <td>0.0</td>\n",
              "      <td>0.0</td>\n",
              "      <td>1.0</td>\n",
              "      <td>0.0</td>\n",
              "      <td>0.0</td>\n",
              "      <td>0.0</td>\n",
              "      <td>1.0</td>\n",
              "      <td>0.0</td>\n",
              "      <td>0.0</td>\n",
              "      <td>0.0</td>\n",
              "      <td>1.0</td>\n",
              "    </tr>\n",
              "    <tr>\n",
              "      <th>3</th>\n",
              "      <td>0.0</td>\n",
              "      <td>1.0</td>\n",
              "      <td>0.0</td>\n",
              "      <td>0.0</td>\n",
              "      <td>1.0</td>\n",
              "      <td>0.0</td>\n",
              "      <td>0.0</td>\n",
              "      <td>0.0</td>\n",
              "      <td>1.0</td>\n",
              "      <td>0.0</td>\n",
              "      <td>0.0</td>\n",
              "      <td>1.0</td>\n",
              "      <td>0.0</td>\n",
              "      <td>0.0</td>\n",
              "      <td>0.0</td>\n",
              "      <td>0.0</td>\n",
              "      <td>1.0</td>\n",
              "    </tr>\n",
              "    <tr>\n",
              "      <th>4</th>\n",
              "      <td>0.0</td>\n",
              "      <td>1.0</td>\n",
              "      <td>0.0</td>\n",
              "      <td>1.0</td>\n",
              "      <td>0.0</td>\n",
              "      <td>0.0</td>\n",
              "      <td>0.0</td>\n",
              "      <td>0.0</td>\n",
              "      <td>1.0</td>\n",
              "      <td>0.0</td>\n",
              "      <td>0.0</td>\n",
              "      <td>0.0</td>\n",
              "      <td>1.0</td>\n",
              "      <td>0.0</td>\n",
              "      <td>0.0</td>\n",
              "      <td>0.0</td>\n",
              "      <td>1.0</td>\n",
              "    </tr>\n",
              "    <tr>\n",
              "      <th>...</th>\n",
              "      <td>...</td>\n",
              "      <td>...</td>\n",
              "      <td>...</td>\n",
              "      <td>...</td>\n",
              "      <td>...</td>\n",
              "      <td>...</td>\n",
              "      <td>...</td>\n",
              "      <td>...</td>\n",
              "      <td>...</td>\n",
              "      <td>...</td>\n",
              "      <td>...</td>\n",
              "      <td>...</td>\n",
              "      <td>...</td>\n",
              "      <td>...</td>\n",
              "      <td>...</td>\n",
              "      <td>...</td>\n",
              "      <td>...</td>\n",
              "    </tr>\n",
              "    <tr>\n",
              "      <th>5625</th>\n",
              "      <td>1.0</td>\n",
              "      <td>0.0</td>\n",
              "      <td>0.0</td>\n",
              "      <td>1.0</td>\n",
              "      <td>0.0</td>\n",
              "      <td>0.0</td>\n",
              "      <td>0.0</td>\n",
              "      <td>0.0</td>\n",
              "      <td>1.0</td>\n",
              "      <td>0.0</td>\n",
              "      <td>0.0</td>\n",
              "      <td>1.0</td>\n",
              "      <td>0.0</td>\n",
              "      <td>0.0</td>\n",
              "      <td>0.0</td>\n",
              "      <td>1.0</td>\n",
              "      <td>0.0</td>\n",
              "    </tr>\n",
              "    <tr>\n",
              "      <th>5626</th>\n",
              "      <td>0.0</td>\n",
              "      <td>1.0</td>\n",
              "      <td>0.0</td>\n",
              "      <td>1.0</td>\n",
              "      <td>0.0</td>\n",
              "      <td>0.0</td>\n",
              "      <td>0.0</td>\n",
              "      <td>0.0</td>\n",
              "      <td>1.0</td>\n",
              "      <td>1.0</td>\n",
              "      <td>0.0</td>\n",
              "      <td>0.0</td>\n",
              "      <td>0.0</td>\n",
              "      <td>0.0</td>\n",
              "      <td>0.0</td>\n",
              "      <td>1.0</td>\n",
              "      <td>0.0</td>\n",
              "    </tr>\n",
              "    <tr>\n",
              "      <th>5627</th>\n",
              "      <td>0.0</td>\n",
              "      <td>1.0</td>\n",
              "      <td>0.0</td>\n",
              "      <td>0.0</td>\n",
              "      <td>1.0</td>\n",
              "      <td>0.0</td>\n",
              "      <td>0.0</td>\n",
              "      <td>0.0</td>\n",
              "      <td>1.0</td>\n",
              "      <td>0.0</td>\n",
              "      <td>0.0</td>\n",
              "      <td>1.0</td>\n",
              "      <td>0.0</td>\n",
              "      <td>0.0</td>\n",
              "      <td>0.0</td>\n",
              "      <td>1.0</td>\n",
              "      <td>0.0</td>\n",
              "    </tr>\n",
              "    <tr>\n",
              "      <th>5628</th>\n",
              "      <td>1.0</td>\n",
              "      <td>0.0</td>\n",
              "      <td>0.0</td>\n",
              "      <td>1.0</td>\n",
              "      <td>0.0</td>\n",
              "      <td>0.0</td>\n",
              "      <td>0.0</td>\n",
              "      <td>0.0</td>\n",
              "      <td>1.0</td>\n",
              "      <td>0.0</td>\n",
              "      <td>0.0</td>\n",
              "      <td>1.0</td>\n",
              "      <td>0.0</td>\n",
              "      <td>0.0</td>\n",
              "      <td>0.0</td>\n",
              "      <td>1.0</td>\n",
              "      <td>0.0</td>\n",
              "    </tr>\n",
              "    <tr>\n",
              "      <th>5629</th>\n",
              "      <td>0.0</td>\n",
              "      <td>1.0</td>\n",
              "      <td>0.0</td>\n",
              "      <td>1.0</td>\n",
              "      <td>0.0</td>\n",
              "      <td>0.0</td>\n",
              "      <td>0.0</td>\n",
              "      <td>0.0</td>\n",
              "      <td>1.0</td>\n",
              "      <td>0.0</td>\n",
              "      <td>0.0</td>\n",
              "      <td>1.0</td>\n",
              "      <td>0.0</td>\n",
              "      <td>0.0</td>\n",
              "      <td>0.0</td>\n",
              "      <td>1.0</td>\n",
              "      <td>0.0</td>\n",
              "    </tr>\n",
              "  </tbody>\n",
              "</table>\n",
              "<p>5630 rows × 17 columns</p>\n",
              "</div>\n",
              "      <button class=\"colab-df-convert\" onclick=\"convertToInteractive('df-799bd1c1-97a5-465b-9104-0fab77700195')\"\n",
              "              title=\"Convert this dataframe to an interactive table.\"\n",
              "              style=\"display:none;\">\n",
              "        \n",
              "  <svg xmlns=\"http://www.w3.org/2000/svg\" height=\"24px\"viewBox=\"0 0 24 24\"\n",
              "       width=\"24px\">\n",
              "    <path d=\"M0 0h24v24H0V0z\" fill=\"none\"/>\n",
              "    <path d=\"M18.56 5.44l.94 2.06.94-2.06 2.06-.94-2.06-.94-.94-2.06-.94 2.06-2.06.94zm-11 1L8.5 8.5l.94-2.06 2.06-.94-2.06-.94L8.5 2.5l-.94 2.06-2.06.94zm10 10l.94 2.06.94-2.06 2.06-.94-2.06-.94-.94-2.06-.94 2.06-2.06.94z\"/><path d=\"M17.41 7.96l-1.37-1.37c-.4-.4-.92-.59-1.43-.59-.52 0-1.04.2-1.43.59L10.3 9.45l-7.72 7.72c-.78.78-.78 2.05 0 2.83L4 21.41c.39.39.9.59 1.41.59.51 0 1.02-.2 1.41-.59l7.78-7.78 2.81-2.81c.8-.78.8-2.07 0-2.86zM5.41 20L4 18.59l7.72-7.72 1.47 1.35L5.41 20z\"/>\n",
              "  </svg>\n",
              "      </button>\n",
              "      \n",
              "  <style>\n",
              "    .colab-df-container {\n",
              "      display:flex;\n",
              "      flex-wrap:wrap;\n",
              "      gap: 12px;\n",
              "    }\n",
              "\n",
              "    .colab-df-convert {\n",
              "      background-color: #E8F0FE;\n",
              "      border: none;\n",
              "      border-radius: 50%;\n",
              "      cursor: pointer;\n",
              "      display: none;\n",
              "      fill: #1967D2;\n",
              "      height: 32px;\n",
              "      padding: 0 0 0 0;\n",
              "      width: 32px;\n",
              "    }\n",
              "\n",
              "    .colab-df-convert:hover {\n",
              "      background-color: #E2EBFA;\n",
              "      box-shadow: 0px 1px 2px rgba(60, 64, 67, 0.3), 0px 1px 3px 1px rgba(60, 64, 67, 0.15);\n",
              "      fill: #174EA6;\n",
              "    }\n",
              "\n",
              "    [theme=dark] .colab-df-convert {\n",
              "      background-color: #3B4455;\n",
              "      fill: #D2E3FC;\n",
              "    }\n",
              "\n",
              "    [theme=dark] .colab-df-convert:hover {\n",
              "      background-color: #434B5C;\n",
              "      box-shadow: 0px 1px 3px 1px rgba(0, 0, 0, 0.15);\n",
              "      filter: drop-shadow(0px 1px 2px rgba(0, 0, 0, 0.3));\n",
              "      fill: #FFFFFF;\n",
              "    }\n",
              "  </style>\n",
              "\n",
              "      <script>\n",
              "        const buttonEl =\n",
              "          document.querySelector('#df-799bd1c1-97a5-465b-9104-0fab77700195 button.colab-df-convert');\n",
              "        buttonEl.style.display =\n",
              "          google.colab.kernel.accessAllowed ? 'block' : 'none';\n",
              "\n",
              "        async function convertToInteractive(key) {\n",
              "          const element = document.querySelector('#df-799bd1c1-97a5-465b-9104-0fab77700195');\n",
              "          const dataTable =\n",
              "            await google.colab.kernel.invokeFunction('convertToInteractive',\n",
              "                                                     [key], {});\n",
              "          if (!dataTable) return;\n",
              "\n",
              "          const docLinkHtml = 'Like what you see? Visit the ' +\n",
              "            '<a target=\"_blank\" href=https://colab.research.google.com/notebooks/data_table.ipynb>data table notebook</a>'\n",
              "            + ' to learn more about interactive tables.';\n",
              "          element.innerHTML = '';\n",
              "          dataTable['output_type'] = 'display_data';\n",
              "          await google.colab.output.renderOutput(dataTable, element);\n",
              "          const docLink = document.createElement('div');\n",
              "          docLink.innerHTML = docLinkHtml;\n",
              "          element.appendChild(docLink);\n",
              "        }\n",
              "      </script>\n",
              "    </div>\n",
              "  </div>\n",
              "  "
            ]
          },
          "metadata": {},
          "execution_count": 26
        }
      ]
    },
    {
      "cell_type": "markdown",
      "source": [
        "Now merged the variable and form the input variable and target variable"
      ],
      "metadata": {
        "id": "r7mHfKk2HgtF"
      }
    },
    {
      "cell_type": "code",
      "source": [
        "X = df[numerical_cols + encoded_cols]\n",
        "X.drop('Churn', axis =1, inplace = True)  # drop the churn variable as it will be target variable\n",
        "X      # captial X denote that it has more than one input variable eg: x1, x2, x3   "
      ],
      "metadata": {
        "colab": {
          "base_uri": "https://localhost:8080/",
          "height": 592
        },
        "id": "39WLf_zGM7Cj",
        "outputId": "54b6dbde-2e63-40af-89d5-b17f4a73f494"
      },
      "execution_count": null,
      "outputs": [
        {
          "output_type": "stream",
          "name": "stderr",
          "text": [
            "/usr/local/lib/python3.7/dist-packages/pandas/core/frame.py:4913: SettingWithCopyWarning: \n",
            "A value is trying to be set on a copy of a slice from a DataFrame\n",
            "\n",
            "See the caveats in the documentation: https://pandas.pydata.org/pandas-docs/stable/user_guide/indexing.html#returning-a-view-versus-a-copy\n",
            "  errors=errors,\n"
          ]
        },
        {
          "output_type": "execute_result",
          "data": {
            "text/plain": [
              "        Tenure  CityTier  WarehouseToHome  HourSpendOnApp  \\\n",
              "0     0.065574       1.0         0.008197        0.600000   \n",
              "1     0.167048       0.0         0.024590        0.600000   \n",
              "2     0.167048       0.0         0.204918        0.400000   \n",
              "3     0.000000       1.0         0.081967        0.400000   \n",
              "4     0.000000       0.0         0.057377        0.586307   \n",
              "...        ...       ...              ...             ...   \n",
              "5625  0.163934       0.0         0.204918        0.600000   \n",
              "5626  0.213115       0.0         0.065574        0.600000   \n",
              "5627  0.016393       0.0         0.049180        0.600000   \n",
              "5628  0.377049       1.0         0.032787        0.800000   \n",
              "5629  0.131148       0.0         0.081967        0.600000   \n",
              "\n",
              "      NumberOfDeviceRegistered  SatisfactionScore  NumberOfAddress  Complain  \\\n",
              "0                          0.4               0.25         0.380952       1.0   \n",
              "1                          0.6               0.50         0.285714       1.0   \n",
              "2                          0.6               0.50         0.238095       1.0   \n",
              "3                          0.6               1.00         0.333333       0.0   \n",
              "4                          0.4               1.00         0.095238       0.0   \n",
              "...                        ...                ...              ...       ...   \n",
              "5625                       0.2               0.00         0.238095       0.0   \n",
              "5626                       0.8               1.00         0.238095       0.0   \n",
              "5627                       0.2               0.75         0.095238       1.0   \n",
              "5628                       0.8               0.75         0.142857       0.0   \n",
              "5629                       0.2               0.50         0.142857       0.0   \n",
              "\n",
              "      OrderAmountHikeFromlastYear  CouponUsed  OrderCount  DaySinceLastOrder  \\\n",
              "0                        0.000000      0.0625    0.000000           0.108696   \n",
              "1                        0.266667      0.0000    0.000000           0.000000   \n",
              "2                        0.200000      0.0000    0.000000           0.065217   \n",
              "3                        0.800000      0.0000    0.000000           0.065217   \n",
              "4                        0.000000      0.0625    0.000000           0.065217   \n",
              "...                           ...         ...         ...                ...   \n",
              "5625                     0.466667      0.0625    0.066667           0.086957   \n",
              "5626                     0.333333      0.0625    0.066667           0.098772   \n",
              "5627                     0.666667      0.0625    0.066667           0.086957   \n",
              "5628                     0.266667      0.1250    0.066667           0.195652   \n",
              "5629                     0.133333      0.1250    0.066667           0.065217   \n",
              "\n",
              "      CashbackAmount  PreferredLoginDevice_Computer  \\\n",
              "0           0.492107                            0.0   \n",
              "1           0.372011                            0.0   \n",
              "2           0.370104                            0.0   \n",
              "3           0.412536                            0.0   \n",
              "4           0.398782                            0.0   \n",
              "...              ...                            ...   \n",
              "5625        0.463737                            1.0   \n",
              "5626        0.692052                            0.0   \n",
              "5627        0.573618                            0.0   \n",
              "5628        0.550478                            1.0   \n",
              "5629        0.520139                            0.0   \n",
              "\n",
              "      PreferredLoginDevice_Mobile Phone  \\\n",
              "0                                   1.0   \n",
              "1                                   1.0   \n",
              "2                                   1.0   \n",
              "3                                   1.0   \n",
              "4                                   1.0   \n",
              "...                                 ...   \n",
              "5625                                0.0   \n",
              "5626                                1.0   \n",
              "5627                                1.0   \n",
              "5628                                0.0   \n",
              "5629                                1.0   \n",
              "\n",
              "      PreferredPaymentMode_Cash on Delivery  PreferredPaymentMode_Credit Card  \\\n",
              "0                                       0.0                               0.0   \n",
              "1                                       0.0                               0.0   \n",
              "2                                       0.0                               0.0   \n",
              "3                                       0.0                               0.0   \n",
              "4                                       0.0                               1.0   \n",
              "...                                     ...                               ...   \n",
              "5625                                    0.0                               1.0   \n",
              "5626                                    0.0                               1.0   \n",
              "5627                                    0.0                               0.0   \n",
              "5628                                    0.0                               1.0   \n",
              "5629                                    0.0                               1.0   \n",
              "\n",
              "      PreferredPaymentMode_Debit Card  PreferredPaymentMode_E wallet  \\\n",
              "0                                 1.0                            0.0   \n",
              "1                                 0.0                            0.0   \n",
              "2                                 1.0                            0.0   \n",
              "3                                 1.0                            0.0   \n",
              "4                                 0.0                            0.0   \n",
              "...                               ...                            ...   \n",
              "5625                              0.0                            0.0   \n",
              "5626                              0.0                            0.0   \n",
              "5627                              1.0                            0.0   \n",
              "5628                              0.0                            0.0   \n",
              "5629                              0.0                            0.0   \n",
              "\n",
              "      PreferredPaymentMode_UPI  Gender_Female  Gender_Male  \\\n",
              "0                          0.0            1.0          0.0   \n",
              "1                          1.0            0.0          1.0   \n",
              "2                          0.0            0.0          1.0   \n",
              "3                          0.0            0.0          1.0   \n",
              "4                          0.0            0.0          1.0   \n",
              "...                        ...            ...          ...   \n",
              "5625                       0.0            0.0          1.0   \n",
              "5626                       0.0            0.0          1.0   \n",
              "5627                       0.0            0.0          1.0   \n",
              "5628                       0.0            0.0          1.0   \n",
              "5629                       0.0            0.0          1.0   \n",
              "\n",
              "      PreferedOrderCat_Fashion  PreferedOrderCat_Grocery  \\\n",
              "0                          0.0                       0.0   \n",
              "1                          0.0                       0.0   \n",
              "2                          0.0                       0.0   \n",
              "3                          0.0                       0.0   \n",
              "4                          0.0                       0.0   \n",
              "...                        ...                       ...   \n",
              "5625                       0.0                       0.0   \n",
              "5626                       1.0                       0.0   \n",
              "5627                       0.0                       0.0   \n",
              "5628                       0.0                       0.0   \n",
              "5629                       0.0                       0.0   \n",
              "\n",
              "      PreferedOrderCat_Laptop & Accessory  PreferedOrderCat_Mobile Phone  \\\n",
              "0                                     1.0                            0.0   \n",
              "1                                     0.0                            1.0   \n",
              "2                                     0.0                            1.0   \n",
              "3                                     1.0                            0.0   \n",
              "4                                     0.0                            1.0   \n",
              "...                                   ...                            ...   \n",
              "5625                                  1.0                            0.0   \n",
              "5626                                  0.0                            0.0   \n",
              "5627                                  1.0                            0.0   \n",
              "5628                                  1.0                            0.0   \n",
              "5629                                  1.0                            0.0   \n",
              "\n",
              "      PreferedOrderCat_Others  MaritalStatus_Divorced  MaritalStatus_Married  \\\n",
              "0                         0.0                     0.0                    0.0   \n",
              "1                         0.0                     0.0                    0.0   \n",
              "2                         0.0                     0.0                    0.0   \n",
              "3                         0.0                     0.0                    0.0   \n",
              "4                         0.0                     0.0                    0.0   \n",
              "...                       ...                     ...                    ...   \n",
              "5625                      0.0                     0.0                    1.0   \n",
              "5626                      0.0                     0.0                    1.0   \n",
              "5627                      0.0                     0.0                    1.0   \n",
              "5628                      0.0                     0.0                    1.0   \n",
              "5629                      0.0                     0.0                    1.0   \n",
              "\n",
              "      MaritalStatus_Single  \n",
              "0                      1.0  \n",
              "1                      1.0  \n",
              "2                      1.0  \n",
              "3                      1.0  \n",
              "4                      1.0  \n",
              "...                    ...  \n",
              "5625                   0.0  \n",
              "5626                   0.0  \n",
              "5627                   0.0  \n",
              "5628                   0.0  \n",
              "5629                   0.0  \n",
              "\n",
              "[5630 rows x 30 columns]"
            ],
            "text/html": [
              "\n",
              "  <div id=\"df-b15387c7-8c8d-438f-901d-6478eff3f902\">\n",
              "    <div class=\"colab-df-container\">\n",
              "      <div>\n",
              "<style scoped>\n",
              "    .dataframe tbody tr th:only-of-type {\n",
              "        vertical-align: middle;\n",
              "    }\n",
              "\n",
              "    .dataframe tbody tr th {\n",
              "        vertical-align: top;\n",
              "    }\n",
              "\n",
              "    .dataframe thead th {\n",
              "        text-align: right;\n",
              "    }\n",
              "</style>\n",
              "<table border=\"1\" class=\"dataframe\">\n",
              "  <thead>\n",
              "    <tr style=\"text-align: right;\">\n",
              "      <th></th>\n",
              "      <th>Tenure</th>\n",
              "      <th>CityTier</th>\n",
              "      <th>WarehouseToHome</th>\n",
              "      <th>HourSpendOnApp</th>\n",
              "      <th>NumberOfDeviceRegistered</th>\n",
              "      <th>SatisfactionScore</th>\n",
              "      <th>NumberOfAddress</th>\n",
              "      <th>Complain</th>\n",
              "      <th>OrderAmountHikeFromlastYear</th>\n",
              "      <th>CouponUsed</th>\n",
              "      <th>OrderCount</th>\n",
              "      <th>DaySinceLastOrder</th>\n",
              "      <th>CashbackAmount</th>\n",
              "      <th>PreferredLoginDevice_Computer</th>\n",
              "      <th>PreferredLoginDevice_Mobile Phone</th>\n",
              "      <th>PreferredPaymentMode_Cash on Delivery</th>\n",
              "      <th>PreferredPaymentMode_Credit Card</th>\n",
              "      <th>PreferredPaymentMode_Debit Card</th>\n",
              "      <th>PreferredPaymentMode_E wallet</th>\n",
              "      <th>PreferredPaymentMode_UPI</th>\n",
              "      <th>Gender_Female</th>\n",
              "      <th>Gender_Male</th>\n",
              "      <th>PreferedOrderCat_Fashion</th>\n",
              "      <th>PreferedOrderCat_Grocery</th>\n",
              "      <th>PreferedOrderCat_Laptop &amp; Accessory</th>\n",
              "      <th>PreferedOrderCat_Mobile Phone</th>\n",
              "      <th>PreferedOrderCat_Others</th>\n",
              "      <th>MaritalStatus_Divorced</th>\n",
              "      <th>MaritalStatus_Married</th>\n",
              "      <th>MaritalStatus_Single</th>\n",
              "    </tr>\n",
              "  </thead>\n",
              "  <tbody>\n",
              "    <tr>\n",
              "      <th>0</th>\n",
              "      <td>0.065574</td>\n",
              "      <td>1.0</td>\n",
              "      <td>0.008197</td>\n",
              "      <td>0.600000</td>\n",
              "      <td>0.4</td>\n",
              "      <td>0.25</td>\n",
              "      <td>0.380952</td>\n",
              "      <td>1.0</td>\n",
              "      <td>0.000000</td>\n",
              "      <td>0.0625</td>\n",
              "      <td>0.000000</td>\n",
              "      <td>0.108696</td>\n",
              "      <td>0.492107</td>\n",
              "      <td>0.0</td>\n",
              "      <td>1.0</td>\n",
              "      <td>0.0</td>\n",
              "      <td>0.0</td>\n",
              "      <td>1.0</td>\n",
              "      <td>0.0</td>\n",
              "      <td>0.0</td>\n",
              "      <td>1.0</td>\n",
              "      <td>0.0</td>\n",
              "      <td>0.0</td>\n",
              "      <td>0.0</td>\n",
              "      <td>1.0</td>\n",
              "      <td>0.0</td>\n",
              "      <td>0.0</td>\n",
              "      <td>0.0</td>\n",
              "      <td>0.0</td>\n",
              "      <td>1.0</td>\n",
              "    </tr>\n",
              "    <tr>\n",
              "      <th>1</th>\n",
              "      <td>0.167048</td>\n",
              "      <td>0.0</td>\n",
              "      <td>0.024590</td>\n",
              "      <td>0.600000</td>\n",
              "      <td>0.6</td>\n",
              "      <td>0.50</td>\n",
              "      <td>0.285714</td>\n",
              "      <td>1.0</td>\n",
              "      <td>0.266667</td>\n",
              "      <td>0.0000</td>\n",
              "      <td>0.000000</td>\n",
              "      <td>0.000000</td>\n",
              "      <td>0.372011</td>\n",
              "      <td>0.0</td>\n",
              "      <td>1.0</td>\n",
              "      <td>0.0</td>\n",
              "      <td>0.0</td>\n",
              "      <td>0.0</td>\n",
              "      <td>0.0</td>\n",
              "      <td>1.0</td>\n",
              "      <td>0.0</td>\n",
              "      <td>1.0</td>\n",
              "      <td>0.0</td>\n",
              "      <td>0.0</td>\n",
              "      <td>0.0</td>\n",
              "      <td>1.0</td>\n",
              "      <td>0.0</td>\n",
              "      <td>0.0</td>\n",
              "      <td>0.0</td>\n",
              "      <td>1.0</td>\n",
              "    </tr>\n",
              "    <tr>\n",
              "      <th>2</th>\n",
              "      <td>0.167048</td>\n",
              "      <td>0.0</td>\n",
              "      <td>0.204918</td>\n",
              "      <td>0.400000</td>\n",
              "      <td>0.6</td>\n",
              "      <td>0.50</td>\n",
              "      <td>0.238095</td>\n",
              "      <td>1.0</td>\n",
              "      <td>0.200000</td>\n",
              "      <td>0.0000</td>\n",
              "      <td>0.000000</td>\n",
              "      <td>0.065217</td>\n",
              "      <td>0.370104</td>\n",
              "      <td>0.0</td>\n",
              "      <td>1.0</td>\n",
              "      <td>0.0</td>\n",
              "      <td>0.0</td>\n",
              "      <td>1.0</td>\n",
              "      <td>0.0</td>\n",
              "      <td>0.0</td>\n",
              "      <td>0.0</td>\n",
              "      <td>1.0</td>\n",
              "      <td>0.0</td>\n",
              "      <td>0.0</td>\n",
              "      <td>0.0</td>\n",
              "      <td>1.0</td>\n",
              "      <td>0.0</td>\n",
              "      <td>0.0</td>\n",
              "      <td>0.0</td>\n",
              "      <td>1.0</td>\n",
              "    </tr>\n",
              "    <tr>\n",
              "      <th>3</th>\n",
              "      <td>0.000000</td>\n",
              "      <td>1.0</td>\n",
              "      <td>0.081967</td>\n",
              "      <td>0.400000</td>\n",
              "      <td>0.6</td>\n",
              "      <td>1.00</td>\n",
              "      <td>0.333333</td>\n",
              "      <td>0.0</td>\n",
              "      <td>0.800000</td>\n",
              "      <td>0.0000</td>\n",
              "      <td>0.000000</td>\n",
              "      <td>0.065217</td>\n",
              "      <td>0.412536</td>\n",
              "      <td>0.0</td>\n",
              "      <td>1.0</td>\n",
              "      <td>0.0</td>\n",
              "      <td>0.0</td>\n",
              "      <td>1.0</td>\n",
              "      <td>0.0</td>\n",
              "      <td>0.0</td>\n",
              "      <td>0.0</td>\n",
              "      <td>1.0</td>\n",
              "      <td>0.0</td>\n",
              "      <td>0.0</td>\n",
              "      <td>1.0</td>\n",
              "      <td>0.0</td>\n",
              "      <td>0.0</td>\n",
              "      <td>0.0</td>\n",
              "      <td>0.0</td>\n",
              "      <td>1.0</td>\n",
              "    </tr>\n",
              "    <tr>\n",
              "      <th>4</th>\n",
              "      <td>0.000000</td>\n",
              "      <td>0.0</td>\n",
              "      <td>0.057377</td>\n",
              "      <td>0.586307</td>\n",
              "      <td>0.4</td>\n",
              "      <td>1.00</td>\n",
              "      <td>0.095238</td>\n",
              "      <td>0.0</td>\n",
              "      <td>0.000000</td>\n",
              "      <td>0.0625</td>\n",
              "      <td>0.000000</td>\n",
              "      <td>0.065217</td>\n",
              "      <td>0.398782</td>\n",
              "      <td>0.0</td>\n",
              "      <td>1.0</td>\n",
              "      <td>0.0</td>\n",
              "      <td>1.0</td>\n",
              "      <td>0.0</td>\n",
              "      <td>0.0</td>\n",
              "      <td>0.0</td>\n",
              "      <td>0.0</td>\n",
              "      <td>1.0</td>\n",
              "      <td>0.0</td>\n",
              "      <td>0.0</td>\n",
              "      <td>0.0</td>\n",
              "      <td>1.0</td>\n",
              "      <td>0.0</td>\n",
              "      <td>0.0</td>\n",
              "      <td>0.0</td>\n",
              "      <td>1.0</td>\n",
              "    </tr>\n",
              "    <tr>\n",
              "      <th>...</th>\n",
              "      <td>...</td>\n",
              "      <td>...</td>\n",
              "      <td>...</td>\n",
              "      <td>...</td>\n",
              "      <td>...</td>\n",
              "      <td>...</td>\n",
              "      <td>...</td>\n",
              "      <td>...</td>\n",
              "      <td>...</td>\n",
              "      <td>...</td>\n",
              "      <td>...</td>\n",
              "      <td>...</td>\n",
              "      <td>...</td>\n",
              "      <td>...</td>\n",
              "      <td>...</td>\n",
              "      <td>...</td>\n",
              "      <td>...</td>\n",
              "      <td>...</td>\n",
              "      <td>...</td>\n",
              "      <td>...</td>\n",
              "      <td>...</td>\n",
              "      <td>...</td>\n",
              "      <td>...</td>\n",
              "      <td>...</td>\n",
              "      <td>...</td>\n",
              "      <td>...</td>\n",
              "      <td>...</td>\n",
              "      <td>...</td>\n",
              "      <td>...</td>\n",
              "      <td>...</td>\n",
              "    </tr>\n",
              "    <tr>\n",
              "      <th>5625</th>\n",
              "      <td>0.163934</td>\n",
              "      <td>0.0</td>\n",
              "      <td>0.204918</td>\n",
              "      <td>0.600000</td>\n",
              "      <td>0.2</td>\n",
              "      <td>0.00</td>\n",
              "      <td>0.238095</td>\n",
              "      <td>0.0</td>\n",
              "      <td>0.466667</td>\n",
              "      <td>0.0625</td>\n",
              "      <td>0.066667</td>\n",
              "      <td>0.086957</td>\n",
              "      <td>0.463737</td>\n",
              "      <td>1.0</td>\n",
              "      <td>0.0</td>\n",
              "      <td>0.0</td>\n",
              "      <td>1.0</td>\n",
              "      <td>0.0</td>\n",
              "      <td>0.0</td>\n",
              "      <td>0.0</td>\n",
              "      <td>0.0</td>\n",
              "      <td>1.0</td>\n",
              "      <td>0.0</td>\n",
              "      <td>0.0</td>\n",
              "      <td>1.0</td>\n",
              "      <td>0.0</td>\n",
              "      <td>0.0</td>\n",
              "      <td>0.0</td>\n",
              "      <td>1.0</td>\n",
              "      <td>0.0</td>\n",
              "    </tr>\n",
              "    <tr>\n",
              "      <th>5626</th>\n",
              "      <td>0.213115</td>\n",
              "      <td>0.0</td>\n",
              "      <td>0.065574</td>\n",
              "      <td>0.600000</td>\n",
              "      <td>0.8</td>\n",
              "      <td>1.00</td>\n",
              "      <td>0.238095</td>\n",
              "      <td>0.0</td>\n",
              "      <td>0.333333</td>\n",
              "      <td>0.0625</td>\n",
              "      <td>0.066667</td>\n",
              "      <td>0.098772</td>\n",
              "      <td>0.692052</td>\n",
              "      <td>0.0</td>\n",
              "      <td>1.0</td>\n",
              "      <td>0.0</td>\n",
              "      <td>1.0</td>\n",
              "      <td>0.0</td>\n",
              "      <td>0.0</td>\n",
              "      <td>0.0</td>\n",
              "      <td>0.0</td>\n",
              "      <td>1.0</td>\n",
              "      <td>1.0</td>\n",
              "      <td>0.0</td>\n",
              "      <td>0.0</td>\n",
              "      <td>0.0</td>\n",
              "      <td>0.0</td>\n",
              "      <td>0.0</td>\n",
              "      <td>1.0</td>\n",
              "      <td>0.0</td>\n",
              "    </tr>\n",
              "    <tr>\n",
              "      <th>5627</th>\n",
              "      <td>0.016393</td>\n",
              "      <td>0.0</td>\n",
              "      <td>0.049180</td>\n",
              "      <td>0.600000</td>\n",
              "      <td>0.2</td>\n",
              "      <td>0.75</td>\n",
              "      <td>0.095238</td>\n",
              "      <td>1.0</td>\n",
              "      <td>0.666667</td>\n",
              "      <td>0.0625</td>\n",
              "      <td>0.066667</td>\n",
              "      <td>0.086957</td>\n",
              "      <td>0.573618</td>\n",
              "      <td>0.0</td>\n",
              "      <td>1.0</td>\n",
              "      <td>0.0</td>\n",
              "      <td>0.0</td>\n",
              "      <td>1.0</td>\n",
              "      <td>0.0</td>\n",
              "      <td>0.0</td>\n",
              "      <td>0.0</td>\n",
              "      <td>1.0</td>\n",
              "      <td>0.0</td>\n",
              "      <td>0.0</td>\n",
              "      <td>1.0</td>\n",
              "      <td>0.0</td>\n",
              "      <td>0.0</td>\n",
              "      <td>0.0</td>\n",
              "      <td>1.0</td>\n",
              "      <td>0.0</td>\n",
              "    </tr>\n",
              "    <tr>\n",
              "      <th>5628</th>\n",
              "      <td>0.377049</td>\n",
              "      <td>1.0</td>\n",
              "      <td>0.032787</td>\n",
              "      <td>0.800000</td>\n",
              "      <td>0.8</td>\n",
              "      <td>0.75</td>\n",
              "      <td>0.142857</td>\n",
              "      <td>0.0</td>\n",
              "      <td>0.266667</td>\n",
              "      <td>0.1250</td>\n",
              "      <td>0.066667</td>\n",
              "      <td>0.195652</td>\n",
              "      <td>0.550478</td>\n",
              "      <td>1.0</td>\n",
              "      <td>0.0</td>\n",
              "      <td>0.0</td>\n",
              "      <td>1.0</td>\n",
              "      <td>0.0</td>\n",
              "      <td>0.0</td>\n",
              "      <td>0.0</td>\n",
              "      <td>0.0</td>\n",
              "      <td>1.0</td>\n",
              "      <td>0.0</td>\n",
              "      <td>0.0</td>\n",
              "      <td>1.0</td>\n",
              "      <td>0.0</td>\n",
              "      <td>0.0</td>\n",
              "      <td>0.0</td>\n",
              "      <td>1.0</td>\n",
              "      <td>0.0</td>\n",
              "    </tr>\n",
              "    <tr>\n",
              "      <th>5629</th>\n",
              "      <td>0.131148</td>\n",
              "      <td>0.0</td>\n",
              "      <td>0.081967</td>\n",
              "      <td>0.600000</td>\n",
              "      <td>0.2</td>\n",
              "      <td>0.50</td>\n",
              "      <td>0.142857</td>\n",
              "      <td>0.0</td>\n",
              "      <td>0.133333</td>\n",
              "      <td>0.1250</td>\n",
              "      <td>0.066667</td>\n",
              "      <td>0.065217</td>\n",
              "      <td>0.520139</td>\n",
              "      <td>0.0</td>\n",
              "      <td>1.0</td>\n",
              "      <td>0.0</td>\n",
              "      <td>1.0</td>\n",
              "      <td>0.0</td>\n",
              "      <td>0.0</td>\n",
              "      <td>0.0</td>\n",
              "      <td>0.0</td>\n",
              "      <td>1.0</td>\n",
              "      <td>0.0</td>\n",
              "      <td>0.0</td>\n",
              "      <td>1.0</td>\n",
              "      <td>0.0</td>\n",
              "      <td>0.0</td>\n",
              "      <td>0.0</td>\n",
              "      <td>1.0</td>\n",
              "      <td>0.0</td>\n",
              "    </tr>\n",
              "  </tbody>\n",
              "</table>\n",
              "<p>5630 rows × 30 columns</p>\n",
              "</div>\n",
              "      <button class=\"colab-df-convert\" onclick=\"convertToInteractive('df-b15387c7-8c8d-438f-901d-6478eff3f902')\"\n",
              "              title=\"Convert this dataframe to an interactive table.\"\n",
              "              style=\"display:none;\">\n",
              "        \n",
              "  <svg xmlns=\"http://www.w3.org/2000/svg\" height=\"24px\"viewBox=\"0 0 24 24\"\n",
              "       width=\"24px\">\n",
              "    <path d=\"M0 0h24v24H0V0z\" fill=\"none\"/>\n",
              "    <path d=\"M18.56 5.44l.94 2.06.94-2.06 2.06-.94-2.06-.94-.94-2.06-.94 2.06-2.06.94zm-11 1L8.5 8.5l.94-2.06 2.06-.94-2.06-.94L8.5 2.5l-.94 2.06-2.06.94zm10 10l.94 2.06.94-2.06 2.06-.94-2.06-.94-.94-2.06-.94 2.06-2.06.94z\"/><path d=\"M17.41 7.96l-1.37-1.37c-.4-.4-.92-.59-1.43-.59-.52 0-1.04.2-1.43.59L10.3 9.45l-7.72 7.72c-.78.78-.78 2.05 0 2.83L4 21.41c.39.39.9.59 1.41.59.51 0 1.02-.2 1.41-.59l7.78-7.78 2.81-2.81c.8-.78.8-2.07 0-2.86zM5.41 20L4 18.59l7.72-7.72 1.47 1.35L5.41 20z\"/>\n",
              "  </svg>\n",
              "      </button>\n",
              "      \n",
              "  <style>\n",
              "    .colab-df-container {\n",
              "      display:flex;\n",
              "      flex-wrap:wrap;\n",
              "      gap: 12px;\n",
              "    }\n",
              "\n",
              "    .colab-df-convert {\n",
              "      background-color: #E8F0FE;\n",
              "      border: none;\n",
              "      border-radius: 50%;\n",
              "      cursor: pointer;\n",
              "      display: none;\n",
              "      fill: #1967D2;\n",
              "      height: 32px;\n",
              "      padding: 0 0 0 0;\n",
              "      width: 32px;\n",
              "    }\n",
              "\n",
              "    .colab-df-convert:hover {\n",
              "      background-color: #E2EBFA;\n",
              "      box-shadow: 0px 1px 2px rgba(60, 64, 67, 0.3), 0px 1px 3px 1px rgba(60, 64, 67, 0.15);\n",
              "      fill: #174EA6;\n",
              "    }\n",
              "\n",
              "    [theme=dark] .colab-df-convert {\n",
              "      background-color: #3B4455;\n",
              "      fill: #D2E3FC;\n",
              "    }\n",
              "\n",
              "    [theme=dark] .colab-df-convert:hover {\n",
              "      background-color: #434B5C;\n",
              "      box-shadow: 0px 1px 3px 1px rgba(0, 0, 0, 0.15);\n",
              "      filter: drop-shadow(0px 1px 2px rgba(0, 0, 0, 0.3));\n",
              "      fill: #FFFFFF;\n",
              "    }\n",
              "  </style>\n",
              "\n",
              "      <script>\n",
              "        const buttonEl =\n",
              "          document.querySelector('#df-b15387c7-8c8d-438f-901d-6478eff3f902 button.colab-df-convert');\n",
              "        buttonEl.style.display =\n",
              "          google.colab.kernel.accessAllowed ? 'block' : 'none';\n",
              "\n",
              "        async function convertToInteractive(key) {\n",
              "          const element = document.querySelector('#df-b15387c7-8c8d-438f-901d-6478eff3f902');\n",
              "          const dataTable =\n",
              "            await google.colab.kernel.invokeFunction('convertToInteractive',\n",
              "                                                     [key], {});\n",
              "          if (!dataTable) return;\n",
              "\n",
              "          const docLinkHtml = 'Like what you see? Visit the ' +\n",
              "            '<a target=\"_blank\" href=https://colab.research.google.com/notebooks/data_table.ipynb>data table notebook</a>'\n",
              "            + ' to learn more about interactive tables.';\n",
              "          element.innerHTML = '';\n",
              "          dataTable['output_type'] = 'display_data';\n",
              "          await google.colab.output.renderOutput(dataTable, element);\n",
              "          const docLink = document.createElement('div');\n",
              "          docLink.innerHTML = docLinkHtml;\n",
              "          element.appendChild(docLink);\n",
              "        }\n",
              "      </script>\n",
              "    </div>\n",
              "  </div>\n",
              "  "
            ]
          },
          "metadata": {},
          "execution_count": 27
        }
      ]
    },
    {
      "cell_type": "code",
      "source": [
        "y = df['Churn']     # y is a target variable\n",
        "y"
      ],
      "metadata": {
        "colab": {
          "base_uri": "https://localhost:8080/"
        },
        "id": "BLi36H4NM7NC",
        "outputId": "979be29f-008d-4ee5-cd71-331c0de4a3b2"
      },
      "execution_count": null,
      "outputs": [
        {
          "output_type": "execute_result",
          "data": {
            "text/plain": [
              "0       1.0\n",
              "1       1.0\n",
              "2       1.0\n",
              "3       1.0\n",
              "4       1.0\n",
              "       ... \n",
              "5625    0.0\n",
              "5626    0.0\n",
              "5627    0.0\n",
              "5628    0.0\n",
              "5629    0.0\n",
              "Name: Churn, Length: 5630, dtype: float64"
            ]
          },
          "metadata": {},
          "execution_count": 28
        }
      ]
    },
    {
      "cell_type": "markdown",
      "source": [
        "###Model Building"
      ],
      "metadata": {
        "id": "3dv0BZNMjzir"
      }
    },
    {
      "cell_type": "markdown",
      "source": [
        "Part 1"
      ],
      "metadata": {
        "id": "qUcpzl9WKp6B"
      }
    },
    {
      "cell_type": "markdown",
      "source": [
        "Split the dataset into train and test using the train_test_split function \n"
      ],
      "metadata": {
        "id": "_B8Q1wDkXWP2"
      }
    },
    {
      "cell_type": "code",
      "source": [
        "from sklearn.model_selection import train_test_split\n",
        "\n",
        "X_train, X_test, y_train, y_test = train_test_split(X, y, test_size = 0.2, random_state = 42)     # test will be size of 20% \n"
      ],
      "metadata": {
        "id": "3GtAU0wLXNHg"
      },
      "execution_count": null,
      "outputs": []
    },
    {
      "cell_type": "code",
      "source": [
        "from sklearn.metrics import accuracy_score, confusion_matrix ,precision_score, recall_score"
      ],
      "metadata": {
        "id": "eEIEzjTRj5hq"
      },
      "execution_count": null,
      "outputs": []
    },
    {
      "cell_type": "code",
      "source": [
        "from sklearn.ensemble import RandomForestClassifier\n",
        "random_forest =  RandomForestClassifier(random_state = 42)\n",
        "random_forest.fit(X_train, y_train)\n",
        "\n",
        "pred_train = random_forest.predict(X_train)\n",
        "pred_test = random_forest.predict(X_test)"
      ],
      "metadata": {
        "id": "6kite7Sqj6Do"
      },
      "execution_count": null,
      "outputs": []
    },
    {
      "cell_type": "code",
      "source": [
        "confusion_matrix(pred_test, y_test)"
      ],
      "metadata": {
        "id": "EGMuYoggy-8h",
        "colab": {
          "base_uri": "https://localhost:8080/"
        },
        "outputId": "ec8f9d64-1c2d-426b-82e6-aeb8fe07ac28"
      },
      "execution_count": null,
      "outputs": [
        {
          "output_type": "execute_result",
          "data": {
            "text/plain": [
              "array([[939,  26],\n",
              "       [  2, 159]])"
            ]
          },
          "metadata": {},
          "execution_count": 55
        }
      ]
    },
    {
      "cell_type": "code",
      "source": [
        "accuracy_score(y_train, pred_train), accuracy_score(y_test, pred_test)"
      ],
      "metadata": {
        "id": "ENcQACceLUDq",
        "colab": {
          "base_uri": "https://localhost:8080/"
        },
        "outputId": "350d9701-7a33-46ea-f13b-93d37c9626a6"
      },
      "execution_count": null,
      "outputs": [
        {
          "output_type": "execute_result",
          "data": {
            "text/plain": [
              "(1.0, 0.9751332149200711)"
            ]
          },
          "metadata": {},
          "execution_count": 56
        }
      ]
    },
    {
      "cell_type": "code",
      "source": [
        "round(precision_score(pred_test, y_test),4), round(recall_score(pred_test, y_test),4)"
      ],
      "metadata": {
        "id": "JcF9ooYnzttx",
        "colab": {
          "base_uri": "https://localhost:8080/"
        },
        "outputId": "7339fdeb-2e39-456d-d6ca-afdac5afad94"
      },
      "execution_count": null,
      "outputs": [
        {
          "output_type": "execute_result",
          "data": {
            "text/plain": [
              "(0.8595, 0.9876)"
            ]
          },
          "metadata": {},
          "execution_count": 57
        }
      ]
    },
    {
      "cell_type": "markdown",
      "source": [
        "The accuracy and recall score is very high but we need to increase the precision score also"
      ],
      "metadata": {
        "id": "Qy2UDDcwLnsT"
      }
    },
    {
      "cell_type": "code",
      "source": [],
      "metadata": {
        "id": "ylbllWUBajZC"
      },
      "execution_count": null,
      "outputs": []
    },
    {
      "cell_type": "code",
      "source": [
        "from sklearn.tree import plot_tree, export_text\n",
        "plt.figure(figsize=(80,20))      # mention the plot size to be use\n",
        "random_forest.estimators_[99]   # taking the 100th decision tree \n",
        "plot_tree(random_forest.estimators_[99], feature_names = X_train.columns, max_depth =2 , filled = True);   "
      ],
      "metadata": {
        "id": "q5dvWQplaj8o",
        "colab": {
          "base_uri": "https://localhost:8080/",
          "height": 302
        },
        "outputId": "274e1619-54a7-4b8b-8aec-2e11f7c636ba"
      },
      "execution_count": null,
      "outputs": [
        {
          "output_type": "display_data",
          "data": {
            "text/plain": [
              "<Figure size 5760x1440 with 1 Axes>"
            ],
            "image/png": "[encoded data removed]"
          },
          "metadata": {
            "needs_background": "light"
          }
        }
      ]
    },
    {
      "cell_type": "code",
      "source": [],
      "metadata": {
        "id": "w0xBx-gBalv3"
      },
      "execution_count": null,
      "outputs": []
    },
    {
      "cell_type": "code",
      "source": [
        "importance_df = pd.DataFrame({'feature':X_train.columns,\n",
        "                            'Importance': random_forest.feature_importances_}).sort_values('Importance', ascending = False)\n",
        "importance_df.head(10)"
      ],
      "metadata": {
        "id": "txgu14rbaq7_",
        "colab": {
          "base_uri": "https://localhost:8080/",
          "height": 363
        },
        "outputId": "bba02f06-a48d-4d5a-f5aa-f36eb824ef46"
      },
      "execution_count": null,
      "outputs": [
        {
          "output_type": "execute_result",
          "data": {
            "text/plain": [
              "                        feature  Importance\n",
              "0                        Tenure    0.212094\n",
              "12               CashbackAmount    0.091158\n",
              "2               WarehouseToHome    0.068180\n",
              "7                      Complain    0.062292\n",
              "6               NumberOfAddress    0.059555\n",
              "11            DaySinceLastOrder    0.058446\n",
              "8   OrderAmountHikeFromlastYear    0.056989\n",
              "5             SatisfactionScore    0.049003\n",
              "4      NumberOfDeviceRegistered    0.032906\n",
              "10                   OrderCount    0.031359"
            ],
            "text/html": [
              "\n",
              "  <div id=\"df-10025600-398e-4611-b16c-4e045f6609e9\">\n",
              "    <div class=\"colab-df-container\">\n",
              "      <div>\n",
              "<style scoped>\n",
              "    .dataframe tbody tr th:only-of-type {\n",
              "        vertical-align: middle;\n",
              "    }\n",
              "\n",
              "    .dataframe tbody tr th {\n",
              "        vertical-align: top;\n",
              "    }\n",
              "\n",
              "    .dataframe thead th {\n",
              "        text-align: right;\n",
              "    }\n",
              "</style>\n",
              "<table border=\"1\" class=\"dataframe\">\n",
              "  <thead>\n",
              "    <tr style=\"text-align: right;\">\n",
              "      <th></th>\n",
              "      <th>feature</th>\n",
              "      <th>Importance</th>\n",
              "    </tr>\n",
              "  </thead>\n",
              "  <tbody>\n",
              "    <tr>\n",
              "      <th>0</th>\n",
              "      <td>Tenure</td>\n",
              "      <td>0.212094</td>\n",
              "    </tr>\n",
              "    <tr>\n",
              "      <th>12</th>\n",
              "      <td>CashbackAmount</td>\n",
              "      <td>0.091158</td>\n",
              "    </tr>\n",
              "    <tr>\n",
              "      <th>2</th>\n",
              "      <td>WarehouseToHome</td>\n",
              "      <td>0.068180</td>\n",
              "    </tr>\n",
              "    <tr>\n",
              "      <th>7</th>\n",
              "      <td>Complain</td>\n",
              "      <td>0.062292</td>\n",
              "    </tr>\n",
              "    <tr>\n",
              "      <th>6</th>\n",
              "      <td>NumberOfAddress</td>\n",
              "      <td>0.059555</td>\n",
              "    </tr>\n",
              "    <tr>\n",
              "      <th>11</th>\n",
              "      <td>DaySinceLastOrder</td>\n",
              "      <td>0.058446</td>\n",
              "    </tr>\n",
              "    <tr>\n",
              "      <th>8</th>\n",
              "      <td>OrderAmountHikeFromlastYear</td>\n",
              "      <td>0.056989</td>\n",
              "    </tr>\n",
              "    <tr>\n",
              "      <th>5</th>\n",
              "      <td>SatisfactionScore</td>\n",
              "      <td>0.049003</td>\n",
              "    </tr>\n",
              "    <tr>\n",
              "      <th>4</th>\n",
              "      <td>NumberOfDeviceRegistered</td>\n",
              "      <td>0.032906</td>\n",
              "    </tr>\n",
              "    <tr>\n",
              "      <th>10</th>\n",
              "      <td>OrderCount</td>\n",
              "      <td>0.031359</td>\n",
              "    </tr>\n",
              "  </tbody>\n",
              "</table>\n",
              "</div>\n",
              "      <button class=\"colab-df-convert\" onclick=\"convertToInteractive('df-10025600-398e-4611-b16c-4e045f6609e9')\"\n",
              "              title=\"Convert this dataframe to an interactive table.\"\n",
              "              style=\"display:none;\">\n",
              "        \n",
              "  <svg xmlns=\"http://www.w3.org/2000/svg\" height=\"24px\"viewBox=\"0 0 24 24\"\n",
              "       width=\"24px\">\n",
              "    <path d=\"M0 0h24v24H0V0z\" fill=\"none\"/>\n",
              "    <path d=\"M18.56 5.44l.94 2.06.94-2.06 2.06-.94-2.06-.94-.94-2.06-.94 2.06-2.06.94zm-11 1L8.5 8.5l.94-2.06 2.06-.94-2.06-.94L8.5 2.5l-.94 2.06-2.06.94zm10 10l.94 2.06.94-2.06 2.06-.94-2.06-.94-.94-2.06-.94 2.06-2.06.94z\"/><path d=\"M17.41 7.96l-1.37-1.37c-.4-.4-.92-.59-1.43-.59-.52 0-1.04.2-1.43.59L10.3 9.45l-7.72 7.72c-.78.78-.78 2.05 0 2.83L4 21.41c.39.39.9.59 1.41.59.51 0 1.02-.2 1.41-.59l7.78-7.78 2.81-2.81c.8-.78.8-2.07 0-2.86zM5.41 20L4 18.59l7.72-7.72 1.47 1.35L5.41 20z\"/>\n",
              "  </svg>\n",
              "      </button>\n",
              "      \n",
              "  <style>\n",
              "    .colab-df-container {\n",
              "      display:flex;\n",
              "      flex-wrap:wrap;\n",
              "      gap: 12px;\n",
              "    }\n",
              "\n",
              "    .colab-df-convert {\n",
              "      background-color: #E8F0FE;\n",
              "      border: none;\n",
              "      border-radius: 50%;\n",
              "      cursor: pointer;\n",
              "      display: none;\n",
              "      fill: #1967D2;\n",
              "      height: 32px;\n",
              "      padding: 0 0 0 0;\n",
              "      width: 32px;\n",
              "    }\n",
              "\n",
              "    .colab-df-convert:hover {\n",
              "      background-color: #E2EBFA;\n",
              "      box-shadow: 0px 1px 2px rgba(60, 64, 67, 0.3), 0px 1px 3px 1px rgba(60, 64, 67, 0.15);\n",
              "      fill: #174EA6;\n",
              "    }\n",
              "\n",
              "    [theme=dark] .colab-df-convert {\n",
              "      background-color: #3B4455;\n",
              "      fill: #D2E3FC;\n",
              "    }\n",
              "\n",
              "    [theme=dark] .colab-df-convert:hover {\n",
              "      background-color: #434B5C;\n",
              "      box-shadow: 0px 1px 3px 1px rgba(0, 0, 0, 0.15);\n",
              "      filter: drop-shadow(0px 1px 2px rgba(0, 0, 0, 0.3));\n",
              "      fill: #FFFFFF;\n",
              "    }\n",
              "  </style>\n",
              "\n",
              "      <script>\n",
              "        const buttonEl =\n",
              "          document.querySelector('#df-10025600-398e-4611-b16c-4e045f6609e9 button.colab-df-convert');\n",
              "        buttonEl.style.display =\n",
              "          google.colab.kernel.accessAllowed ? 'block' : 'none';\n",
              "\n",
              "        async function convertToInteractive(key) {\n",
              "          const element = document.querySelector('#df-10025600-398e-4611-b16c-4e045f6609e9');\n",
              "          const dataTable =\n",
              "            await google.colab.kernel.invokeFunction('convertToInteractive',\n",
              "                                                     [key], {});\n",
              "          if (!dataTable) return;\n",
              "\n",
              "          const docLinkHtml = 'Like what you see? Visit the ' +\n",
              "            '<a target=\"_blank\" href=https://colab.research.google.com/notebooks/data_table.ipynb>data table notebook</a>'\n",
              "            + ' to learn more about interactive tables.';\n",
              "          element.innerHTML = '';\n",
              "          dataTable['output_type'] = 'display_data';\n",
              "          await google.colab.output.renderOutput(dataTable, element);\n",
              "          const docLink = document.createElement('div');\n",
              "          docLink.innerHTML = docLinkHtml;\n",
              "          element.appendChild(docLink);\n",
              "        }\n",
              "      </script>\n",
              "    </div>\n",
              "  </div>\n",
              "  "
            ]
          },
          "metadata": {},
          "execution_count": 59
        }
      ]
    },
    {
      "cell_type": "code",
      "source": [
        "plt.figure(figsize=(10,5))\n",
        "\n",
        "sns.barplot(data = importance_df.head(10), x = 'Importance', y = 'feature', palette = 'Set2');\n",
        "plt.title('Feature Importance')"
      ],
      "metadata": {
        "id": "ADWzliBYambh",
        "colab": {
          "base_uri": "https://localhost:8080/",
          "height": 367
        },
        "outputId": "4d8292ec-06b3-41ef-f6cc-78d65aac4f44"
      },
      "execution_count": null,
      "outputs": [
        {
          "output_type": "execute_result",
          "data": {
            "text/plain": [
              "Text(0.5, 1.0, 'Feature Importance')"
            ]
          },
          "metadata": {},
          "execution_count": 60
        },
        {
          "output_type": "display_data",
          "data": {
            "text/plain": [
              "<Figure size 720x360 with 1 Axes>"
            ],
            "image/png": "[encoded data removed]"
          },
          "metadata": {
            "needs_background": "light"
          }
        }
      ]
    },
    {
      "cell_type": "markdown",
      "source": [
        "Part 2  \n",
        "Doing oversampling of a imbalance data"
      ],
      "metadata": {
        "id": "KNagrqCk9tNH"
      }
    },
    {
      "cell_type": "code",
      "source": [
        "sum(y_train == 0 ) ,sum(y_train ==1)"
      ],
      "metadata": {
        "id": "q1-QmxMbqRnR",
        "colab": {
          "base_uri": "https://localhost:8080/"
        },
        "outputId": "548441f9-a95e-4733-f4fe-2ab8cf9ed38b"
      },
      "execution_count": null,
      "outputs": [
        {
          "output_type": "execute_result",
          "data": {
            "text/plain": [
              "(3741, 763)"
            ]
          },
          "metadata": {},
          "execution_count": 61
        }
      ]
    },
    {
      "cell_type": "markdown",
      "source": [
        "As for 1 label there is only 763 instance, we needed to increase it make equal to a 0 label, for this we use SMOTE for oversampling"
      ],
      "metadata": {
        "id": "Azbhf1UZMPdW"
      }
    },
    {
      "cell_type": "code",
      "source": [
        "from imblearn.over_sampling import SMOTE\n",
        "sm = SMOTE(random_state = 2)\n",
        "\n",
        "X_train_ow, y_train_ow = sm.fit_resample(X_train, y_train)\n",
        "label_1 = sum(y_train_ow == 1)\n",
        "label_0 = sum(y_train_ow == 0)\n",
        "\n",
        "print('Now for 1 label there are {} instance  and for  0 label there are {}'.format(label_1, label_0))"
      ],
      "metadata": {
        "id": "po6sNHC9zt-P",
        "colab": {
          "base_uri": "https://localhost:8080/"
        },
        "outputId": "0a68bbbb-f7ac-4eb6-bf49-d606d143304f"
      },
      "execution_count": null,
      "outputs": [
        {
          "output_type": "stream",
          "name": "stdout",
          "text": [
            "Now for 1 label there are 3741 instance  and for  0 label there are 3741\n"
          ]
        }
      ]
    },
    {
      "cell_type": "code",
      "source": [
        "from sklearn.ensemble import RandomForestClassifier\n",
        "random_forest_1 =  RandomForestClassifier( random_state = 42)\n",
        "random_forest_1.fit(X_train_ow, y_train_ow)\n",
        "pred_train_1 = random_forest_1.predict(X_train_ow)\n",
        "pred_test_1 = random_forest_1.predict(X_test)"
      ],
      "metadata": {
        "id": "a2ERqoXW90wD"
      },
      "execution_count": null,
      "outputs": []
    },
    {
      "cell_type": "code",
      "source": [],
      "metadata": {
        "id": "yIfOd68LRKgg"
      },
      "execution_count": null,
      "outputs": []
    },
    {
      "cell_type": "code",
      "source": [
        "confusion_matrix(pred_test_1, y_test)\n"
      ],
      "metadata": {
        "id": "CCMg8XHl907K",
        "colab": {
          "base_uri": "https://localhost:8080/"
        },
        "outputId": "1eab4740-f5de-49fb-a4d5-ff74135bc399"
      },
      "execution_count": null,
      "outputs": [
        {
          "output_type": "execute_result",
          "data": {
            "text/plain": [
              "array([[937,  19],\n",
              "       [  4, 166]])"
            ]
          },
          "metadata": {},
          "execution_count": 64
        }
      ]
    },
    {
      "cell_type": "code",
      "source": [
        "round(precision_score(pred_test_1, y_test),4)"
      ],
      "metadata": {
        "id": "j2j093xw-7Iv",
        "colab": {
          "base_uri": "https://localhost:8080/"
        },
        "outputId": "aa8c2c67-2b02-4be2-c52c-431118cda07b"
      },
      "execution_count": null,
      "outputs": [
        {
          "output_type": "execute_result",
          "data": {
            "text/plain": [
              "0.8973"
            ]
          },
          "metadata": {},
          "execution_count": 65
        }
      ]
    },
    {
      "cell_type": "code",
      "source": [],
      "metadata": {
        "id": "1OwiJm0nSSlw"
      },
      "execution_count": null,
      "outputs": []
    },
    {
      "cell_type": "markdown",
      "source": [
        " Before the oversampling precsion score was  0.8595 and after oversampling precsion score is 0.8973"
      ],
      "metadata": {
        "id": "BafRRLh7ODxn"
      }
    },
    {
      "cell_type": "markdown",
      "source": [
        "Part 3  \n",
        "Hypertunning  of the paramter"
      ],
      "metadata": {
        "id": "YKNTqtfHs3SG"
      }
    },
    {
      "cell_type": "code",
      "source": [
        "# define the function for testing the parameters\n",
        "def test_params(**params):\n",
        "    model = RandomForestClassifier(random_state = 42, n_jobs = 1, **params).fit(X_train_ow, y_train_ow)\n",
        "    pred_test = model.predict(X_test)\n",
        "    pred_train = model.predict(X_train_ow)\n",
        "    train =  round(precision_score(pred_train, y_train_ow),4)  \n",
        "    test =  round(precision_score(pred_test, y_test),4)  \n",
        "    return train, test"
      ],
      "metadata": {
        "id": "YHY_k8NqJMwn"
      },
      "execution_count": null,
      "outputs": []
    },
    {
      "cell_type": "code",
      "source": [
        "def test_param_and_plot_rf(param_name, param_values):\n",
        "    train_precision, test_precision = [], [] \n",
        "    for value in param_values:\n",
        "        params = {param_name: value}\n",
        "        train, test = test_params(**params)\n",
        "        train_precision.append(train)\n",
        "        test_precision.append(test)\n",
        "   \n",
        "   \n",
        "   \n",
        "    plt.figure(figsize=(10,6))\n",
        "    plt.title(param_name)\n",
        "    plt.plot(param_values, train_precision, 'b-o')\n",
        "    plt.plot(param_values, test_precision, 'r-o')\n",
        "    plt.xlabel(param_name)\n",
        "    plt.ylabel('Precision score')\n",
        "    plt.legend(['Training', 'testing'])"
      ],
      "metadata": {
        "id": "FEIYXS9cHul4"
      },
      "execution_count": null,
      "outputs": []
    },
    {
      "cell_type": "code",
      "source": [
        "test_param_and_plot_rf('max_depth', [10, 20, 30, 45])"
      ],
      "metadata": {
        "id": "iTTDKEebN4ia",
        "colab": {
          "base_uri": "https://localhost:8080/",
          "height": 405
        },
        "outputId": "a22614fc-03f2-4ee1-813f-369ace2aa7b1"
      },
      "execution_count": null,
      "outputs": [
        {
          "output_type": "display_data",
          "data": {
            "text/plain": [
              "<Figure size 720x432 with 1 Axes>"
            ],
            "image/png": "[encoded data removed]"
          },
          "metadata": {
            "needs_background": "light"
          }
        }
      ]
    },
    {
      "cell_type": "markdown",
      "source": [
        "The best option will be to take max_depth = 30 as precision score is not increase much after that"
      ],
      "metadata": {
        "id": "CDOG5W4wT4O-"
      }
    },
    {
      "cell_type": "code",
      "source": [
        "test_param_and_plot_rf('n_estimators', [20, 120,200, 245])\n"
      ],
      "metadata": {
        "id": "x_c2GroFH5Gg",
        "colab": {
          "base_uri": "https://localhost:8080/",
          "height": 405
        },
        "outputId": "22b57dcd-f2b9-4107-d223-3263a66e12b4"
      },
      "execution_count": null,
      "outputs": [
        {
          "output_type": "display_data",
          "data": {
            "text/plain": [
              "<Figure size 720x432 with 1 Axes>"
            ],
            "image/png": "[encoded data removed]"
          },
          "metadata": {
            "needs_background": "light"
          }
        }
      ]
    },
    {
      "cell_type": "markdown",
      "source": [
        "The best option will be 120 as n_estimators as that point precision score is highest"
      ],
      "metadata": {
        "id": "gHpYkjZQUkNW"
      }
    },
    {
      "cell_type": "code",
      "source": [
        "test_param_and_plot_rf('max_leaf_nodes', [2**5, 2**10, 2**15, 2**20])\n"
      ],
      "metadata": {
        "id": "4bbbs0w6H5Rs",
        "colab": {
          "base_uri": "https://localhost:8080/",
          "height": 405
        },
        "outputId": "30afdf9a-2f5e-4efc-f22c-c5b827bb803a"
      },
      "execution_count": null,
      "outputs": [
        {
          "output_type": "display_data",
          "data": {
            "text/plain": [
              "<Figure size 720x432 with 1 Axes>"
            ],
            "image/png": "[encoded data removed]"
          },
          "metadata": {
            "needs_background": "light"
          }
        }
      ]
    },
    {
      "cell_type": "code",
      "source": [
        "test_param_and_plot_rf('max_features', ['log2', 5,10, 15])"
      ],
      "metadata": {
        "id": "SeJ0q1bqHusM",
        "colab": {
          "base_uri": "https://localhost:8080/",
          "height": 405
        },
        "outputId": "cffa6959-5ba3-4f0c-d810-dbbffe485191"
      },
      "execution_count": null,
      "outputs": [
        {
          "output_type": "display_data",
          "data": {
            "text/plain": [
              "<Figure size 720x432 with 1 Axes>"
            ],
            "image/png": "[encoded data removed]"
          },
          "metadata": {
            "needs_background": "light"
          }
        }
      ]
    },
    {
      "cell_type": "markdown",
      "source": [
        "max features at 15 give highest precision "
      ],
      "metadata": {
        "id": "IQ4IZIzUUvUq"
      }
    },
    {
      "cell_type": "code",
      "source": [],
      "metadata": {
        "id": "ZnEju94qHbyG"
      },
      "execution_count": null,
      "outputs": []
    },
    {
      "cell_type": "code",
      "source": [],
      "metadata": {
        "id": "59GdzbLGRMXj"
      },
      "execution_count": null,
      "outputs": []
    },
    {
      "cell_type": "code",
      "source": [
        "from sklearn.ensemble import RandomForestClassifier\n",
        "random_forest_2 =  RandomForestClassifier(max_features= 15 , max_leaf_nodes=2**10, max_depth = 30, n_estimators = 120, random_state = 0 )\n",
        "random_forest_2.fit(X_train_ow, y_train_ow)\n",
        "\n",
        "pred_train_2 = random_forest_2.predict(X_train_ow)\n",
        "pred_test_2 = random_forest_2.predict(X_test)"
      ],
      "metadata": {
        "id": "DU3M94OORMjw"
      },
      "execution_count": null,
      "outputs": []
    },
    {
      "cell_type": "code",
      "source": [
        "round(accuracy_score(pred_test_2, y_test),4)"
      ],
      "metadata": {
        "id": "XfrZ_1kFTTPT",
        "colab": {
          "base_uri": "https://localhost:8080/"
        },
        "outputId": "48d4bb61-ce45-47af-ac82-e38eab2cdc78"
      },
      "execution_count": null,
      "outputs": [
        {
          "output_type": "execute_result",
          "data": {
            "text/plain": [
              "0.9742"
            ]
          },
          "metadata": {},
          "execution_count": 73
        }
      ]
    },
    {
      "cell_type": "code",
      "source": [
        "round(precision_score(pred_test_2, y_test),4)"
      ],
      "metadata": {
        "id": "uFFu0Q__SVa-",
        "colab": {
          "base_uri": "https://localhost:8080/"
        },
        "outputId": "413a7c3d-61c2-40a3-f431-1dc556d9b6b5"
      },
      "execution_count": null,
      "outputs": [
        {
          "output_type": "execute_result",
          "data": {
            "text/plain": [
              "0.9189"
            ]
          },
          "metadata": {},
          "execution_count": 74
        }
      ]
    },
    {
      "cell_type": "markdown",
      "source": [
        "By doing the hypertunning precsion score is increase from 0.8973 to 0.9189"
      ],
      "metadata": {
        "id": "k53BpM40TCaL"
      }
    },
    {
      "cell_type": "code",
      "source": [],
      "metadata": {
        "id": "L7UjSTJTSyKk"
      },
      "execution_count": null,
      "outputs": []
    },
    {
      "cell_type": "code",
      "source": [],
      "metadata": {
        "id": "8jHP-sUhST6M"
      },
      "execution_count": null,
      "outputs": []
    },
    {
      "cell_type": "markdown",
      "source": [
        "**Base model precison score:    0.8595**   \n",
        "\n",
        "**After OverSampling precsion score:     0.8973**   \n",
        "\n",
        "**After Hyper tunning precision score:   0.9189**  \n"
      ],
      "metadata": {
        "id": "CY1V6StHSfVk"
      }
    }
  ]
}